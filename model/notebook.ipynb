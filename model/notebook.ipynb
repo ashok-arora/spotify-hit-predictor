{
  "cells": [
    {
      "cell_type": "markdown",
      "metadata": {
        "colab_type": "text",
        "id": "view-in-github"
      },
      "source": [
        "<a href=\"https://colab.research.google.com/github/ashok-arora/ML-Zoomcamp/blob/main/mid_term_project/notebook.ipynb\" target=\"_parent\"><img src=\"https://colab.research.google.com/assets/colab-badge.svg\" alt=\"Open In Colab\"/></a>"
      ]
    },
    {
      "cell_type": "markdown",
      "metadata": {
        "id": "Al_jL6S5Kfo3"
      },
      "source": [
        "# Spotify Hit Predictor"
      ]
    },
    {
      "cell_type": "markdown",
      "metadata": {
        "id": "34oLH7iDcvqT"
      },
      "source": [
        "**Dataset**: https://www.kaggle.com/theoverman/the-spotify-hit-predictor-dataset\n",
        "\n",
        "**Link to repository**: https://github.com/ashok-arora/ML-Zoomcamp/mid_term_project\n",
        "\n",
        "Note: The README.md inside the repository containes the problem statement and the detailed description of the approach.  \n"
      ]
    },
    {
      "cell_type": "markdown",
      "metadata": {
        "id": "zRWrXaOid31u"
      },
      "source": [
        "## This notebook has been organized in the form of:\n",
        "\n",
        "code snippet\n",
        "\n",
        "---\n",
        "\n",
        "followed by the inference from the output of the code snippet. "
      ]
    },
    {
      "cell_type": "markdown",
      "metadata": {
        "id": "5myUJd9tbOs-"
      },
      "source": [
        "## Importing the necessary libraries"
      ]
    },
    {
      "cell_type": "code",
      "execution_count": null,
      "metadata": {
        "id": "xAPtA_2McYjM"
      },
      "outputs": [],
      "source": [
        "import glob\n",
        "import os\n",
        "\n",
        "import pandas as pd\n",
        "import seaborn as sns\n",
        "import numpy as np\n",
        "import sklearn\n",
        "\n",
        "\n",
        "from sklearn.model_selection import train_test_split, GridSearchCV\n",
        "\n",
        "import matplotlib.pyplot as plt\n",
        "import matplotlib as mpl\n",
        "\n",
        "%matplotlib inline\n",
        "\n",
        "import warnings\n",
        "warnings.filterwarnings('ignore')"
      ]
    },
    {
      "cell_type": "markdown",
      "metadata": {
        "id": "IvNTXvZcuAXm"
      },
      "source": [
        "## Load Data\n"
      ]
    },
    {
      "cell_type": "code",
      "execution_count": null,
      "metadata": {
        "id": "CLHxYnJCBeXy"
      },
      "outputs": [],
      "source": [
        "# all_files = glob.glob(\"./*.csv\")\n",
        "# df = pd.concat((pd.read_csv(f) for f in all_files))\n",
        "# df.to_csv('./datasets/combined_dataset.csv', index=False)\n",
        "\n",
        "df = pd.read_csv('./datasets/combined_dataset.csv')"
      ]
    },
    {
      "cell_type": "code",
      "execution_count": null,
      "metadata": {
        "colab": {
          "base_uri": "https://localhost:8080/",
          "height": 400
        },
        "id": "G7w7twVmElfz",
        "outputId": "31e13322-ce9e-4dc6-dc95-a1ae20bced9f"
      },
      "outputs": [
        {
          "data": {
            "text/html": [
              "<div>\n",
              "<style scoped>\n",
              "    .dataframe tbody tr th:only-of-type {\n",
              "        vertical-align: middle;\n",
              "    }\n",
              "\n",
              "    .dataframe tbody tr th {\n",
              "        vertical-align: top;\n",
              "    }\n",
              "\n",
              "    .dataframe thead th {\n",
              "        text-align: right;\n",
              "    }\n",
              "</style>\n",
              "<table border=\"1\" class=\"dataframe\">\n",
              "  <thead>\n",
              "    <tr style=\"text-align: right;\">\n",
              "      <th></th>\n",
              "      <th>track</th>\n",
              "      <th>artist</th>\n",
              "      <th>uri</th>\n",
              "      <th>danceability</th>\n",
              "      <th>energy</th>\n",
              "      <th>key</th>\n",
              "      <th>loudness</th>\n",
              "      <th>mode</th>\n",
              "      <th>speechiness</th>\n",
              "      <th>acousticness</th>\n",
              "      <th>instrumentalness</th>\n",
              "      <th>liveness</th>\n",
              "      <th>valence</th>\n",
              "      <th>tempo</th>\n",
              "      <th>duration_ms</th>\n",
              "      <th>time_signature</th>\n",
              "      <th>chorus_hit</th>\n",
              "      <th>sections</th>\n",
              "      <th>target</th>\n",
              "    </tr>\n",
              "  </thead>\n",
              "  <tbody>\n",
              "    <tr>\n",
              "      <th>0</th>\n",
              "      <td>Misty Roses</td>\n",
              "      <td>Astrud Gilberto</td>\n",
              "      <td>spotify:track:50RBM1j1Dw7WYmsGsWg9Tm</td>\n",
              "      <td>0.527</td>\n",
              "      <td>0.316</td>\n",
              "      <td>1</td>\n",
              "      <td>-15.769</td>\n",
              "      <td>1</td>\n",
              "      <td>0.0310</td>\n",
              "      <td>0.693000</td>\n",
              "      <td>0.00699</td>\n",
              "      <td>0.1680</td>\n",
              "      <td>0.543</td>\n",
              "      <td>116.211</td>\n",
              "      <td>158840</td>\n",
              "      <td>4</td>\n",
              "      <td>53.89523</td>\n",
              "      <td>6</td>\n",
              "      <td>0</td>\n",
              "    </tr>\n",
              "    <tr>\n",
              "      <th>1</th>\n",
              "      <td>Never Ever</td>\n",
              "      <td>All Saints</td>\n",
              "      <td>spotify:track:5FTz9qQ94PyUHETyAyfYZN</td>\n",
              "      <td>0.738</td>\n",
              "      <td>0.541</td>\n",
              "      <td>1</td>\n",
              "      <td>-5.485</td>\n",
              "      <td>1</td>\n",
              "      <td>0.0311</td>\n",
              "      <td>0.559000</td>\n",
              "      <td>0.00000</td>\n",
              "      <td>0.0492</td>\n",
              "      <td>0.309</td>\n",
              "      <td>134.187</td>\n",
              "      <td>387573</td>\n",
              "      <td>4</td>\n",
              "      <td>32.16853</td>\n",
              "      <td>16</td>\n",
              "      <td>1</td>\n",
              "    </tr>\n",
              "    <tr>\n",
              "      <th>2</th>\n",
              "      <td>Soul Sermon</td>\n",
              "      <td>Gregg Karukas</td>\n",
              "      <td>spotify:track:6m24oe3lk1UMxq9zq4iPFi</td>\n",
              "      <td>0.736</td>\n",
              "      <td>0.419</td>\n",
              "      <td>0</td>\n",
              "      <td>-10.662</td>\n",
              "      <td>1</td>\n",
              "      <td>0.0300</td>\n",
              "      <td>0.693000</td>\n",
              "      <td>0.49500</td>\n",
              "      <td>0.0809</td>\n",
              "      <td>0.265</td>\n",
              "      <td>93.982</td>\n",
              "      <td>237267</td>\n",
              "      <td>4</td>\n",
              "      <td>42.05369</td>\n",
              "      <td>9</td>\n",
              "      <td>0</td>\n",
              "    </tr>\n",
              "    <tr>\n",
              "      <th>3</th>\n",
              "      <td>Clarinet Marmalade - Live</td>\n",
              "      <td>Alton Purnell</td>\n",
              "      <td>spotify:track:5FOXuiLI6knVtgMUjWKj6x</td>\n",
              "      <td>0.565</td>\n",
              "      <td>0.594</td>\n",
              "      <td>5</td>\n",
              "      <td>-13.086</td>\n",
              "      <td>1</td>\n",
              "      <td>0.0646</td>\n",
              "      <td>0.655000</td>\n",
              "      <td>0.92600</td>\n",
              "      <td>0.6750</td>\n",
              "      <td>0.763</td>\n",
              "      <td>114.219</td>\n",
              "      <td>375933</td>\n",
              "      <td>4</td>\n",
              "      <td>80.99693</td>\n",
              "      <td>10</td>\n",
              "      <td>0</td>\n",
              "    </tr>\n",
              "    <tr>\n",
              "      <th>4</th>\n",
              "      <td>До смерті і довше - Drum &amp; Base and Rock Remix</td>\n",
              "      <td>Skryabin</td>\n",
              "      <td>spotify:track:6CxyIPTqSPvAPXfrIZczs4</td>\n",
              "      <td>0.513</td>\n",
              "      <td>0.760</td>\n",
              "      <td>4</td>\n",
              "      <td>-10.077</td>\n",
              "      <td>1</td>\n",
              "      <td>0.0355</td>\n",
              "      <td>0.000017</td>\n",
              "      <td>0.00339</td>\n",
              "      <td>0.1530</td>\n",
              "      <td>0.961</td>\n",
              "      <td>153.166</td>\n",
              "      <td>430653</td>\n",
              "      <td>4</td>\n",
              "      <td>25.57331</td>\n",
              "      <td>20</td>\n",
              "      <td>0</td>\n",
              "    </tr>\n",
              "  </tbody>\n",
              "</table>\n",
              "</div>"
            ],
            "text/plain": [
              "                                            track  ... target\n",
              "0                                     Misty Roses  ...      0\n",
              "1                                      Never Ever  ...      1\n",
              "2                                     Soul Sermon  ...      0\n",
              "3                       Clarinet Marmalade - Live  ...      0\n",
              "4  До смерті і довше - Drum & Base and Rock Remix  ...      0\n",
              "\n",
              "[5 rows x 19 columns]"
            ]
          },
          "execution_count": 5,
          "metadata": {},
          "output_type": "execute_result"
        }
      ],
      "source": [
        "df.head()"
      ]
    },
    {
      "cell_type": "code",
      "execution_count": null,
      "metadata": {
        "colab": {
          "base_uri": "https://localhost:8080/"
        },
        "id": "UjoIqCJQEpPg",
        "outputId": "447d4935-1777-4af1-b432-a574f5711a5e"
      },
      "outputs": [
        {
          "data": {
            "text/plain": [
              "Index(['track', 'artist', 'uri', 'danceability', 'energy', 'key', 'loudness',\n",
              "       'mode', 'speechiness', 'acousticness', 'instrumentalness', 'liveness',\n",
              "       'valence', 'tempo', 'duration_ms', 'time_signature', 'chorus_hit',\n",
              "       'sections', 'target'],\n",
              "      dtype='object')"
            ]
          },
          "execution_count": 6,
          "metadata": {},
          "output_type": "execute_result"
        }
      ],
      "source": [
        "df.columns"
      ]
    },
    {
      "cell_type": "markdown",
      "metadata": {
        "id": "-FENWIygbeAz"
      },
      "source": [
        "The column names contain no spaces and are all lowercase and hence correctly formatted. \n",
        "\n",
        "Next, dropping the non-useful columns: track, artist and uri.  \n",
        "\n",
        "\n",
        "\n"
      ]
    },
    {
      "cell_type": "code",
      "execution_count": null,
      "metadata": {
        "id": "C9THSlBcI9Pf"
      },
      "outputs": [],
      "source": [
        "df = df.drop(['track', 'artist', 'uri'], axis=1)"
      ]
    },
    {
      "cell_type": "code",
      "execution_count": null,
      "metadata": {
        "colab": {
          "base_uri": "https://localhost:8080/"
        },
        "id": "cU5zWZuGJMf-",
        "outputId": "4c786a2d-14d9-49f8-a9a5-b9d4d5c249b6"
      },
      "outputs": [
        {
          "data": {
            "text/plain": [
              "Index(['danceability', 'energy', 'key', 'loudness', 'mode', 'speechiness',\n",
              "       'acousticness', 'instrumentalness', 'liveness', 'valence', 'tempo',\n",
              "       'duration_ms', 'time_signature', 'chorus_hit', 'sections', 'target'],\n",
              "      dtype='object')"
            ]
          },
          "execution_count": 8,
          "metadata": {},
          "output_type": "execute_result"
        }
      ],
      "source": [
        "df.columns"
      ]
    },
    {
      "cell_type": "code",
      "execution_count": null,
      "metadata": {
        "colab": {
          "base_uri": "https://localhost:8080/"
        },
        "id": "GSqqUatHFk9G",
        "outputId": "30ac7465-177e-41af-d27d-33350cacfa01"
      },
      "outputs": [
        {
          "name": "stdout",
          "output_type": "stream",
          "text": [
            "The dataset consists of 41106 rows.\n"
          ]
        }
      ],
      "source": [
        "print(f'The dataset consists of {len(df)} rows.')"
      ]
    },
    {
      "cell_type": "code",
      "execution_count": null,
      "metadata": {
        "colab": {
          "base_uri": "https://localhost:8080/"
        },
        "id": "nsqq6PE6JraC",
        "outputId": "71a3f2cb-5037-4ce9-883e-856441bdd08d"
      },
      "outputs": [
        {
          "data": {
            "text/plain": [
              "danceability        float64\n",
              "energy              float64\n",
              "key                   int64\n",
              "loudness            float64\n",
              "mode                  int64\n",
              "speechiness         float64\n",
              "acousticness        float64\n",
              "instrumentalness    float64\n",
              "liveness            float64\n",
              "valence             float64\n",
              "tempo               float64\n",
              "duration_ms           int64\n",
              "time_signature        int64\n",
              "chorus_hit          float64\n",
              "sections              int64\n",
              "target                int64\n",
              "dtype: object"
            ]
          },
          "execution_count": 68,
          "metadata": {},
          "output_type": "execute_result"
        }
      ],
      "source": [
        "df.dtypes"
      ]
    },
    {
      "cell_type": "markdown",
      "metadata": {
        "id": "1g-bfyObcu3t"
      },
      "source": [
        "Since the dtype is either float64 or int64, the dataset consists of **numerical attributes only**. This information will be helpful in selecting a criterion for removing non-useful features."
      ]
    },
    {
      "cell_type": "markdown",
      "metadata": {
        "id": "CNedoEkYBmKr"
      },
      "source": [
        "## Exploratory Data Analysis (EDA)"
      ]
    },
    {
      "cell_type": "code",
      "execution_count": null,
      "metadata": {
        "colab": {
          "base_uri": "https://localhost:8080/"
        },
        "id": "I6rWV2NVEsBk",
        "outputId": "0ce724ab-a557-4711-8959-89e02ddc3b2e"
      },
      "outputs": [
        {
          "data": {
            "text/plain": [
              "danceability        0\n",
              "energy              0\n",
              "key                 0\n",
              "loudness            0\n",
              "mode                0\n",
              "speechiness         0\n",
              "acousticness        0\n",
              "instrumentalness    0\n",
              "liveness            0\n",
              "valence             0\n",
              "tempo               0\n",
              "duration_ms         0\n",
              "time_signature      0\n",
              "chorus_hit          0\n",
              "sections            0\n",
              "target              0\n",
              "dtype: int64"
            ]
          },
          "execution_count": 37,
          "metadata": {},
          "output_type": "execute_result"
        }
      ],
      "source": [
        "df.isnull().sum()"
      ]
    },
    {
      "cell_type": "markdown",
      "metadata": {
        "id": "j9b1LApXeSXD"
      },
      "source": [
        "**No missing values** were found for any of the columns in the dataset and hence there is no need to fill them with mean or median."
      ]
    },
    {
      "cell_type": "code",
      "execution_count": null,
      "metadata": {
        "colab": {
          "base_uri": "https://localhost:8080/"
        },
        "id": "CkdKPl2JBpDK",
        "outputId": "c923e22a-70c8-4a4c-c100-dc76b1d2930e"
      },
      "outputs": [
        {
          "data": {
            "text/plain": [
              "1    0.5\n",
              "0    0.5\n",
              "Name: target, dtype: float64"
            ]
          },
          "execution_count": 6,
          "metadata": {},
          "output_type": "execute_result"
        }
      ],
      "source": [
        "df.target.value_counts(normalize=True)"
      ]
    },
    {
      "cell_type": "markdown",
      "metadata": {
        "id": "g5RL690sdTYY"
      },
      "source": [
        "The ratio of values in each class is **equal**, this highlights that there is **no class imbalance** and thus the classifier will not be biased towards a particular class. \n",
        "\n",
        "---\n",
        "\n",
        "Incase of class imbalance, Synthetic Minority Oversampling Technique (SMOTE) is used to fix it.  "
      ]
    },
    {
      "cell_type": "code",
      "execution_count": null,
      "metadata": {
        "colab": {
          "base_uri": "https://localhost:8080/",
          "height": 320
        },
        "id": "3ojHiiGiEo_W",
        "outputId": "c48b1dc4-6a22-43b6-b0e5-4a229bb76a6f"
      },
      "outputs": [
        {
          "data": {
            "text/html": [
              "<div>\n",
              "<style scoped>\n",
              "    .dataframe tbody tr th:only-of-type {\n",
              "        vertical-align: middle;\n",
              "    }\n",
              "\n",
              "    .dataframe tbody tr th {\n",
              "        vertical-align: top;\n",
              "    }\n",
              "\n",
              "    .dataframe thead th {\n",
              "        text-align: right;\n",
              "    }\n",
              "</style>\n",
              "<table border=\"1\" class=\"dataframe\">\n",
              "  <thead>\n",
              "    <tr style=\"text-align: right;\">\n",
              "      <th></th>\n",
              "      <th>danceability</th>\n",
              "      <th>energy</th>\n",
              "      <th>key</th>\n",
              "      <th>loudness</th>\n",
              "      <th>mode</th>\n",
              "      <th>speechiness</th>\n",
              "      <th>acousticness</th>\n",
              "      <th>instrumentalness</th>\n",
              "      <th>liveness</th>\n",
              "      <th>valence</th>\n",
              "      <th>tempo</th>\n",
              "      <th>duration_ms</th>\n",
              "      <th>time_signature</th>\n",
              "      <th>chorus_hit</th>\n",
              "      <th>sections</th>\n",
              "      <th>target</th>\n",
              "    </tr>\n",
              "  </thead>\n",
              "  <tbody>\n",
              "    <tr>\n",
              "      <th>count</th>\n",
              "      <td>41106.000000</td>\n",
              "      <td>41106.000000</td>\n",
              "      <td>41106.000000</td>\n",
              "      <td>41106.000000</td>\n",
              "      <td>41106.000000</td>\n",
              "      <td>41106.000000</td>\n",
              "      <td>41106.000000</td>\n",
              "      <td>41106.000000</td>\n",
              "      <td>41106.000000</td>\n",
              "      <td>41106.000000</td>\n",
              "      <td>41106.000000</td>\n",
              "      <td>4.110600e+04</td>\n",
              "      <td>41106.000000</td>\n",
              "      <td>41106.000000</td>\n",
              "      <td>41106.000000</td>\n",
              "      <td>41106.000000</td>\n",
              "    </tr>\n",
              "    <tr>\n",
              "      <th>mean</th>\n",
              "      <td>0.539695</td>\n",
              "      <td>0.579545</td>\n",
              "      <td>5.213594</td>\n",
              "      <td>-10.221525</td>\n",
              "      <td>0.693354</td>\n",
              "      <td>0.072960</td>\n",
              "      <td>0.364197</td>\n",
              "      <td>0.154416</td>\n",
              "      <td>0.201535</td>\n",
              "      <td>0.542440</td>\n",
              "      <td>119.338249</td>\n",
              "      <td>2.348776e+05</td>\n",
              "      <td>3.893689</td>\n",
              "      <td>40.106041</td>\n",
              "      <td>10.475673</td>\n",
              "      <td>0.500000</td>\n",
              "    </tr>\n",
              "    <tr>\n",
              "      <th>std</th>\n",
              "      <td>0.177821</td>\n",
              "      <td>0.252628</td>\n",
              "      <td>3.534977</td>\n",
              "      <td>5.311626</td>\n",
              "      <td>0.461107</td>\n",
              "      <td>0.086112</td>\n",
              "      <td>0.338913</td>\n",
              "      <td>0.303530</td>\n",
              "      <td>0.172959</td>\n",
              "      <td>0.267329</td>\n",
              "      <td>29.098845</td>\n",
              "      <td>1.189674e+05</td>\n",
              "      <td>0.423073</td>\n",
              "      <td>19.005515</td>\n",
              "      <td>4.871850</td>\n",
              "      <td>0.500006</td>\n",
              "    </tr>\n",
              "    <tr>\n",
              "      <th>min</th>\n",
              "      <td>0.000000</td>\n",
              "      <td>0.000251</td>\n",
              "      <td>0.000000</td>\n",
              "      <td>-49.253000</td>\n",
              "      <td>0.000000</td>\n",
              "      <td>0.000000</td>\n",
              "      <td>0.000000</td>\n",
              "      <td>0.000000</td>\n",
              "      <td>0.013000</td>\n",
              "      <td>0.000000</td>\n",
              "      <td>0.000000</td>\n",
              "      <td>1.516800e+04</td>\n",
              "      <td>0.000000</td>\n",
              "      <td>0.000000</td>\n",
              "      <td>0.000000</td>\n",
              "      <td>0.000000</td>\n",
              "    </tr>\n",
              "    <tr>\n",
              "      <th>25%</th>\n",
              "      <td>0.420000</td>\n",
              "      <td>0.396000</td>\n",
              "      <td>2.000000</td>\n",
              "      <td>-12.816000</td>\n",
              "      <td>0.000000</td>\n",
              "      <td>0.033700</td>\n",
              "      <td>0.039400</td>\n",
              "      <td>0.000000</td>\n",
              "      <td>0.094000</td>\n",
              "      <td>0.330000</td>\n",
              "      <td>97.397000</td>\n",
              "      <td>1.729278e+05</td>\n",
              "      <td>4.000000</td>\n",
              "      <td>27.599793</td>\n",
              "      <td>8.000000</td>\n",
              "      <td>0.000000</td>\n",
              "    </tr>\n",
              "    <tr>\n",
              "      <th>50%</th>\n",
              "      <td>0.552000</td>\n",
              "      <td>0.601000</td>\n",
              "      <td>5.000000</td>\n",
              "      <td>-9.257000</td>\n",
              "      <td>1.000000</td>\n",
              "      <td>0.043400</td>\n",
              "      <td>0.258000</td>\n",
              "      <td>0.000120</td>\n",
              "      <td>0.132000</td>\n",
              "      <td>0.558000</td>\n",
              "      <td>117.565000</td>\n",
              "      <td>2.179070e+05</td>\n",
              "      <td>4.000000</td>\n",
              "      <td>35.850795</td>\n",
              "      <td>10.000000</td>\n",
              "      <td>0.500000</td>\n",
              "    </tr>\n",
              "    <tr>\n",
              "      <th>75%</th>\n",
              "      <td>0.669000</td>\n",
              "      <td>0.787000</td>\n",
              "      <td>8.000000</td>\n",
              "      <td>-6.374250</td>\n",
              "      <td>1.000000</td>\n",
              "      <td>0.069800</td>\n",
              "      <td>0.676000</td>\n",
              "      <td>0.061250</td>\n",
              "      <td>0.261000</td>\n",
              "      <td>0.768000</td>\n",
              "      <td>136.494000</td>\n",
              "      <td>2.667730e+05</td>\n",
              "      <td>4.000000</td>\n",
              "      <td>47.625615</td>\n",
              "      <td>12.000000</td>\n",
              "      <td>1.000000</td>\n",
              "    </tr>\n",
              "    <tr>\n",
              "      <th>max</th>\n",
              "      <td>0.988000</td>\n",
              "      <td>1.000000</td>\n",
              "      <td>11.000000</td>\n",
              "      <td>3.744000</td>\n",
              "      <td>1.000000</td>\n",
              "      <td>0.960000</td>\n",
              "      <td>0.996000</td>\n",
              "      <td>1.000000</td>\n",
              "      <td>0.999000</td>\n",
              "      <td>0.996000</td>\n",
              "      <td>241.423000</td>\n",
              "      <td>4.170227e+06</td>\n",
              "      <td>5.000000</td>\n",
              "      <td>433.182000</td>\n",
              "      <td>169.000000</td>\n",
              "      <td>1.000000</td>\n",
              "    </tr>\n",
              "  </tbody>\n",
              "</table>\n",
              "</div>"
            ],
            "text/plain": [
              "       danceability        energy  ...      sections        target\n",
              "count  41106.000000  41106.000000  ...  41106.000000  41106.000000\n",
              "mean       0.539695      0.579545  ...     10.475673      0.500000\n",
              "std        0.177821      0.252628  ...      4.871850      0.500006\n",
              "min        0.000000      0.000251  ...      0.000000      0.000000\n",
              "25%        0.420000      0.396000  ...      8.000000      0.000000\n",
              "50%        0.552000      0.601000  ...     10.000000      0.500000\n",
              "75%        0.669000      0.787000  ...     12.000000      1.000000\n",
              "max        0.988000      1.000000  ...    169.000000      1.000000\n",
              "\n",
              "[8 rows x 16 columns]"
            ]
          },
          "execution_count": 36,
          "metadata": {},
          "output_type": "execute_result"
        }
      ],
      "source": [
        "df.describe()"
      ]
    },
    {
      "cell_type": "markdown",
      "metadata": {
        "id": "_rlkxhxeeyUu"
      },
      "source": [
        "From the description above, it can be inferred that attributes `danceability, energy, mode, speechiness, acousticness, instrumentalness, liveliness and valence` have been normalized between `[0, 1]`."
      ]
    },
    {
      "cell_type": "code",
      "execution_count": null,
      "metadata": {
        "colab": {
          "base_uri": "https://localhost:8080/",
          "height": 520
        },
        "id": "Eq4dtXapOPts",
        "outputId": "33d512af-c517-4700-c793-fb6485ce8496"
      },
      "outputs": [
        {
          "data": {
            "text/html": [
              "<div>\n",
              "<style scoped>\n",
              "    .dataframe tbody tr th:only-of-type {\n",
              "        vertical-align: middle;\n",
              "    }\n",
              "\n",
              "    .dataframe tbody tr th {\n",
              "        vertical-align: top;\n",
              "    }\n",
              "\n",
              "    .dataframe thead th {\n",
              "        text-align: right;\n",
              "    }\n",
              "</style>\n",
              "<table border=\"1\" class=\"dataframe\">\n",
              "  <thead>\n",
              "    <tr style=\"text-align: right;\">\n",
              "      <th></th>\n",
              "      <th>hit_mean</th>\n",
              "      <th>flop_mean</th>\n",
              "      <th>difference</th>\n",
              "    </tr>\n",
              "  </thead>\n",
              "  <tbody>\n",
              "    <tr>\n",
              "      <th>danceability</th>\n",
              "      <td>0.601237</td>\n",
              "      <td>0.478153</td>\n",
              "      <td>0.123085</td>\n",
              "    </tr>\n",
              "    <tr>\n",
              "      <th>energy</th>\n",
              "      <td>0.624296</td>\n",
              "      <td>0.534794</td>\n",
              "      <td>0.089501</td>\n",
              "    </tr>\n",
              "    <tr>\n",
              "      <th>key</th>\n",
              "      <td>5.248528</td>\n",
              "      <td>5.178660</td>\n",
              "      <td>0.069868</td>\n",
              "    </tr>\n",
              "    <tr>\n",
              "      <th>loudness</th>\n",
              "      <td>-8.702237</td>\n",
              "      <td>-11.740813</td>\n",
              "      <td>3.038576</td>\n",
              "    </tr>\n",
              "    <tr>\n",
              "      <th>mode</th>\n",
              "      <td>0.730064</td>\n",
              "      <td>0.656644</td>\n",
              "      <td>0.073420</td>\n",
              "    </tr>\n",
              "    <tr>\n",
              "      <th>speechiness</th>\n",
              "      <td>0.069444</td>\n",
              "      <td>0.076477</td>\n",
              "      <td>-0.007033</td>\n",
              "    </tr>\n",
              "    <tr>\n",
              "      <th>acousticness</th>\n",
              "      <td>0.280814</td>\n",
              "      <td>0.447581</td>\n",
              "      <td>-0.166767</td>\n",
              "    </tr>\n",
              "    <tr>\n",
              "      <th>instrumentalness</th>\n",
              "      <td>0.030687</td>\n",
              "      <td>0.278145</td>\n",
              "      <td>-0.247458</td>\n",
              "    </tr>\n",
              "    <tr>\n",
              "      <th>liveness</th>\n",
              "      <td>0.192637</td>\n",
              "      <td>0.210432</td>\n",
              "      <td>-0.017796</td>\n",
              "    </tr>\n",
              "    <tr>\n",
              "      <th>valence</th>\n",
              "      <td>0.609578</td>\n",
              "      <td>0.475302</td>\n",
              "      <td>0.134276</td>\n",
              "    </tr>\n",
              "    <tr>\n",
              "      <th>tempo</th>\n",
              "      <td>120.288280</td>\n",
              "      <td>118.388219</td>\n",
              "      <td>1.900061</td>\n",
              "    </tr>\n",
              "    <tr>\n",
              "      <th>duration_ms</th>\n",
              "      <td>226095.539970</td>\n",
              "      <td>243659.560940</td>\n",
              "      <td>-17564.020970</td>\n",
              "    </tr>\n",
              "    <tr>\n",
              "      <th>time_signature</th>\n",
              "      <td>3.938063</td>\n",
              "      <td>3.849316</td>\n",
              "      <td>0.088746</td>\n",
              "    </tr>\n",
              "    <tr>\n",
              "      <th>chorus_hit</th>\n",
              "      <td>39.224034</td>\n",
              "      <td>40.988048</td>\n",
              "      <td>-1.764014</td>\n",
              "    </tr>\n",
              "    <tr>\n",
              "      <th>sections</th>\n",
              "      <td>10.183380</td>\n",
              "      <td>10.767966</td>\n",
              "      <td>-0.584586</td>\n",
              "    </tr>\n",
              "  </tbody>\n",
              "</table>\n",
              "</div>"
            ],
            "text/plain": [
              "                       hit_mean      flop_mean    difference\n",
              "danceability           0.601237       0.478153      0.123085\n",
              "energy                 0.624296       0.534794      0.089501\n",
              "key                    5.248528       5.178660      0.069868\n",
              "loudness              -8.702237     -11.740813      3.038576\n",
              "mode                   0.730064       0.656644      0.073420\n",
              "speechiness            0.069444       0.076477     -0.007033\n",
              "acousticness           0.280814       0.447581     -0.166767\n",
              "instrumentalness       0.030687       0.278145     -0.247458\n",
              "liveness               0.192637       0.210432     -0.017796\n",
              "valence                0.609578       0.475302      0.134276\n",
              "tempo                120.288280     118.388219      1.900061\n",
              "duration_ms       226095.539970  243659.560940 -17564.020970\n",
              "time_signature         3.938063       3.849316      0.088746\n",
              "chorus_hit            39.224034      40.988048     -1.764014\n",
              "sections              10.183380      10.767966     -0.584586"
            ]
          },
          "execution_count": 131,
          "metadata": {},
          "output_type": "execute_result"
        }
      ],
      "source": [
        "#going to focus on the spotify features when comparing the hits and flops\n",
        "all_songs_hits = df.drop('target', axis=1).loc[df['target'] == 1]\n",
        "all_songs_flops = df.drop('target', axis=1).loc[df['target'] == 0]\n",
        "\n",
        "hits_means = pd.DataFrame(all_songs_hits.describe().loc['mean'])\n",
        "flops_means = pd.DataFrame(all_songs_flops.describe().loc['mean'])\n",
        "means_joined = pd.concat([hits_means,flops_means, (hits_means-flops_means)], axis = 1)\n",
        "means_joined.columns = ['hit_mean', 'flop_mean', 'difference']\n",
        "means_joined"
      ]
    },
    {
      "cell_type": "code",
      "execution_count": null,
      "metadata": {
        "colab": {
          "base_uri": "https://localhost:8080/",
          "height": 520
        },
        "id": "cKss6ZqsPEpq",
        "outputId": "8e757efe-306d-4005-e5a4-40fc71965ddd"
      },
      "outputs": [
        {
          "data": {
            "text/html": [
              "<div>\n",
              "<style scoped>\n",
              "    .dataframe tbody tr th:only-of-type {\n",
              "        vertical-align: middle;\n",
              "    }\n",
              "\n",
              "    .dataframe tbody tr th {\n",
              "        vertical-align: top;\n",
              "    }\n",
              "\n",
              "    .dataframe thead th {\n",
              "        text-align: right;\n",
              "    }\n",
              "</style>\n",
              "<table border=\"1\" class=\"dataframe\">\n",
              "  <thead>\n",
              "    <tr style=\"text-align: right;\">\n",
              "      <th></th>\n",
              "      <th>hit_mean</th>\n",
              "      <th>flop_mean</th>\n",
              "      <th>difference</th>\n",
              "    </tr>\n",
              "  </thead>\n",
              "  <tbody>\n",
              "    <tr>\n",
              "      <th>loudness</th>\n",
              "      <td>-8.702237</td>\n",
              "      <td>-11.740813</td>\n",
              "      <td>3.038576</td>\n",
              "    </tr>\n",
              "    <tr>\n",
              "      <th>tempo</th>\n",
              "      <td>120.288280</td>\n",
              "      <td>118.388219</td>\n",
              "      <td>1.900061</td>\n",
              "    </tr>\n",
              "    <tr>\n",
              "      <th>valence</th>\n",
              "      <td>0.609578</td>\n",
              "      <td>0.475302</td>\n",
              "      <td>0.134276</td>\n",
              "    </tr>\n",
              "    <tr>\n",
              "      <th>danceability</th>\n",
              "      <td>0.601237</td>\n",
              "      <td>0.478153</td>\n",
              "      <td>0.123085</td>\n",
              "    </tr>\n",
              "    <tr>\n",
              "      <th>energy</th>\n",
              "      <td>0.624296</td>\n",
              "      <td>0.534794</td>\n",
              "      <td>0.089501</td>\n",
              "    </tr>\n",
              "    <tr>\n",
              "      <th>time_signature</th>\n",
              "      <td>3.938063</td>\n",
              "      <td>3.849316</td>\n",
              "      <td>0.088746</td>\n",
              "    </tr>\n",
              "    <tr>\n",
              "      <th>mode</th>\n",
              "      <td>0.730064</td>\n",
              "      <td>0.656644</td>\n",
              "      <td>0.073420</td>\n",
              "    </tr>\n",
              "    <tr>\n",
              "      <th>key</th>\n",
              "      <td>5.248528</td>\n",
              "      <td>5.178660</td>\n",
              "      <td>0.069868</td>\n",
              "    </tr>\n",
              "    <tr>\n",
              "      <th>speechiness</th>\n",
              "      <td>0.069444</td>\n",
              "      <td>0.076477</td>\n",
              "      <td>-0.007033</td>\n",
              "    </tr>\n",
              "    <tr>\n",
              "      <th>liveness</th>\n",
              "      <td>0.192637</td>\n",
              "      <td>0.210432</td>\n",
              "      <td>-0.017796</td>\n",
              "    </tr>\n",
              "    <tr>\n",
              "      <th>acousticness</th>\n",
              "      <td>0.280814</td>\n",
              "      <td>0.447581</td>\n",
              "      <td>-0.166767</td>\n",
              "    </tr>\n",
              "    <tr>\n",
              "      <th>instrumentalness</th>\n",
              "      <td>0.030687</td>\n",
              "      <td>0.278145</td>\n",
              "      <td>-0.247458</td>\n",
              "    </tr>\n",
              "    <tr>\n",
              "      <th>sections</th>\n",
              "      <td>10.183380</td>\n",
              "      <td>10.767966</td>\n",
              "      <td>-0.584586</td>\n",
              "    </tr>\n",
              "    <tr>\n",
              "      <th>chorus_hit</th>\n",
              "      <td>39.224034</td>\n",
              "      <td>40.988048</td>\n",
              "      <td>-1.764014</td>\n",
              "    </tr>\n",
              "    <tr>\n",
              "      <th>duration_ms</th>\n",
              "      <td>226095.539970</td>\n",
              "      <td>243659.560940</td>\n",
              "      <td>-17564.020970</td>\n",
              "    </tr>\n",
              "  </tbody>\n",
              "</table>\n",
              "</div>"
            ],
            "text/plain": [
              "                       hit_mean      flop_mean    difference\n",
              "loudness              -8.702237     -11.740813      3.038576\n",
              "tempo                120.288280     118.388219      1.900061\n",
              "valence                0.609578       0.475302      0.134276\n",
              "danceability           0.601237       0.478153      0.123085\n",
              "energy                 0.624296       0.534794      0.089501\n",
              "time_signature         3.938063       3.849316      0.088746\n",
              "mode                   0.730064       0.656644      0.073420\n",
              "key                    5.248528       5.178660      0.069868\n",
              "speechiness            0.069444       0.076477     -0.007033\n",
              "liveness               0.192637       0.210432     -0.017796\n",
              "acousticness           0.280814       0.447581     -0.166767\n",
              "instrumentalness       0.030687       0.278145     -0.247458\n",
              "sections              10.183380      10.767966     -0.584586\n",
              "chorus_hit            39.224034      40.988048     -1.764014\n",
              "duration_ms       226095.539970  243659.560940 -17564.020970"
            ]
          },
          "execution_count": 134,
          "metadata": {},
          "output_type": "execute_result"
        }
      ],
      "source": [
        "means_joined.sort_values('difference', ascending=False)"
      ]
    },
    {
      "cell_type": "code",
      "execution_count": null,
      "metadata": {
        "colab": {
          "base_uri": "https://localhost:8080/",
          "height": 1000
        },
        "id": "ZhTn_m46FGyE",
        "outputId": "2b7b264b-caf1-456e-8b35-6c5f4e30cc10"
      },
      "outputs": [
        {
          "data": {
            "image/png": "[encoded data removed]",
            "text/plain": [
              "<Figure size 1440x1440 with 15 Axes>"
            ]
          },
          "metadata": {
            "needs_background": "light"
          },
          "output_type": "display_data"
        }
      ],
      "source": [
        "#create histograpms of all the variables to see distributions\n",
        "fig, ax = plt.subplots(5,3, figsize=(20,20))\n",
        "\n",
        "def hist_plot(row=0, column=0, variable=None, binsnum=10, color='g'):\n",
        "    ax[row, column].hist(df[variable], bins = binsnum, color = color)\n",
        "    ax[row, column].set_title(variable + ' histogram')\n",
        "\n",
        "idx = 0\n",
        "for i in range(0, 5):\n",
        "  for j in range(0, 3):\n",
        "      hist_plot(i, j, df.columns[idx])\n",
        "      idx += 1 "
      ]
    },
    {
      "cell_type": "markdown",
      "metadata": {
        "id": "iQ3ebtwmL-Jv"
      },
      "source": [
        "From the above cells, it can be concluded that hit songs have high values of `loudness, tempo, valence, danceability, energy, time_signature, mode` and low values of `speechiness, liveness, acousticness, instrumentalness, sections, chorus_hit, duration_ms`."
      ]
    },
    {
      "cell_type": "code",
      "execution_count": null,
      "metadata": {
        "colab": {
          "base_uri": "https://localhost:8080/"
        },
        "id": "F3UKe9AIIdUM",
        "outputId": "d7980d67-87d5-4e21-df5b-e5f708651ad8"
      },
      "outputs": [
        {
          "data": {
            "text/html": [
              "<div>\n",
              "<style scoped>\n",
              "    .dataframe tbody tr th:only-of-type {\n",
              "        vertical-align: middle;\n",
              "    }\n",
              "\n",
              "    .dataframe tbody tr th {\n",
              "        vertical-align: top;\n",
              "    }\n",
              "\n",
              "    .dataframe thead th {\n",
              "        text-align: right;\n",
              "    }\n",
              "</style>\n",
              "<table border=\"1\" class=\"dataframe\">\n",
              "  <thead>\n",
              "    <tr style=\"text-align: right;\">\n",
              "      <th></th>\n",
              "      <th>danceability</th>\n",
              "      <th>energy</th>\n",
              "      <th>key</th>\n",
              "      <th>loudness</th>\n",
              "      <th>mode</th>\n",
              "      <th>speechiness</th>\n",
              "      <th>acousticness</th>\n",
              "      <th>instrumentalness</th>\n",
              "      <th>liveness</th>\n",
              "      <th>valence</th>\n",
              "      <th>tempo</th>\n",
              "      <th>duration_ms</th>\n",
              "      <th>time_signature</th>\n",
              "      <th>chorus_hit</th>\n",
              "      <th>sections</th>\n",
              "    </tr>\n",
              "  </thead>\n",
              "  <tbody>\n",
              "    <tr>\n",
              "      <th>danceability</th>\n",
              "      <td>1.000000</td>\n",
              "      <td>0.206128</td>\n",
              "      <td>0.015433</td>\n",
              "      <td>0.274160</td>\n",
              "      <td>-0.032743</td>\n",
              "      <td>0.156452</td>\n",
              "      <td>-0.261252</td>\n",
              "      <td>-0.301915</td>\n",
              "      <td>-0.115251</td>\n",
              "      <td>0.553858</td>\n",
              "      <td>-0.066541</td>\n",
              "      <td>-0.063030</td>\n",
              "      <td>0.191664</td>\n",
              "      <td>-0.036277</td>\n",
              "      <td>-0.058615</td>\n",
              "    </tr>\n",
              "    <tr>\n",
              "      <th>energy</th>\n",
              "      <td>0.206128</td>\n",
              "      <td>1.000000</td>\n",
              "      <td>0.022523</td>\n",
              "      <td>0.772628</td>\n",
              "      <td>-0.033780</td>\n",
              "      <td>0.122430</td>\n",
              "      <td>-0.715088</td>\n",
              "      <td>-0.208153</td>\n",
              "      <td>0.157779</td>\n",
              "      <td>0.341427</td>\n",
              "      <td>0.224018</td>\n",
              "      <td>0.011830</td>\n",
              "      <td>0.196072</td>\n",
              "      <td>0.009620</td>\n",
              "      <td>-0.040233</td>\n",
              "    </tr>\n",
              "    <tr>\n",
              "      <th>key</th>\n",
              "      <td>0.015433</td>\n",
              "      <td>0.022523</td>\n",
              "      <td>1.000000</td>\n",
              "      <td>0.008438</td>\n",
              "      <td>-0.140455</td>\n",
              "      <td>0.026515</td>\n",
              "      <td>-0.024178</td>\n",
              "      <td>-0.013101</td>\n",
              "      <td>0.000668</td>\n",
              "      <td>0.007742</td>\n",
              "      <td>0.001154</td>\n",
              "      <td>0.015493</td>\n",
              "      <td>0.004757</td>\n",
              "      <td>0.010264</td>\n",
              "      <td>0.006784</td>\n",
              "    </tr>\n",
              "    <tr>\n",
              "      <th>loudness</th>\n",
              "      <td>0.274160</td>\n",
              "      <td>0.772628</td>\n",
              "      <td>0.008438</td>\n",
              "      <td>1.000000</td>\n",
              "      <td>0.000509</td>\n",
              "      <td>0.069241</td>\n",
              "      <td>-0.566548</td>\n",
              "      <td>-0.374301</td>\n",
              "      <td>0.086708</td>\n",
              "      <td>0.271775</td>\n",
              "      <td>0.169453</td>\n",
              "      <td>-0.049890</td>\n",
              "      <td>0.165520</td>\n",
              "      <td>-0.013401</td>\n",
              "      <td>-0.080065</td>\n",
              "    </tr>\n",
              "    <tr>\n",
              "      <th>mode</th>\n",
              "      <td>-0.032743</td>\n",
              "      <td>-0.033780</td>\n",
              "      <td>-0.140455</td>\n",
              "      <td>0.000509</td>\n",
              "      <td>1.000000</td>\n",
              "      <td>-0.059636</td>\n",
              "      <td>0.049961</td>\n",
              "      <td>-0.075992</td>\n",
              "      <td>0.008886</td>\n",
              "      <td>0.035636</td>\n",
              "      <td>0.027053</td>\n",
              "      <td>-0.074828</td>\n",
              "      <td>-0.009483</td>\n",
              "      <td>-0.022594</td>\n",
              "      <td>-0.057095</td>\n",
              "    </tr>\n",
              "    <tr>\n",
              "      <th>speechiness</th>\n",
              "      <td>0.156452</td>\n",
              "      <td>0.122430</td>\n",
              "      <td>0.026515</td>\n",
              "      <td>0.069241</td>\n",
              "      <td>-0.059636</td>\n",
              "      <td>1.000000</td>\n",
              "      <td>-0.083948</td>\n",
              "      <td>-0.084092</td>\n",
              "      <td>0.131488</td>\n",
              "      <td>0.001528</td>\n",
              "      <td>0.036854</td>\n",
              "      <td>0.007631</td>\n",
              "      <td>0.021085</td>\n",
              "      <td>0.012972</td>\n",
              "      <td>-0.008636</td>\n",
              "    </tr>\n",
              "    <tr>\n",
              "      <th>acousticness</th>\n",
              "      <td>-0.261252</td>\n",
              "      <td>-0.715088</td>\n",
              "      <td>-0.024178</td>\n",
              "      <td>-0.566548</td>\n",
              "      <td>0.049961</td>\n",
              "      <td>-0.083948</td>\n",
              "      <td>1.000000</td>\n",
              "      <td>0.204137</td>\n",
              "      <td>-0.030765</td>\n",
              "      <td>-0.195331</td>\n",
              "      <td>-0.179700</td>\n",
              "      <td>-0.070271</td>\n",
              "      <td>-0.188139</td>\n",
              "      <td>-0.012409</td>\n",
              "      <td>-0.016824</td>\n",
              "    </tr>\n",
              "    <tr>\n",
              "      <th>instrumentalness</th>\n",
              "      <td>-0.301915</td>\n",
              "      <td>-0.208153</td>\n",
              "      <td>-0.013101</td>\n",
              "      <td>-0.374301</td>\n",
              "      <td>-0.075992</td>\n",
              "      <td>-0.084092</td>\n",
              "      <td>0.204137</td>\n",
              "      <td>1.000000</td>\n",
              "      <td>-0.050582</td>\n",
              "      <td>-0.287047</td>\n",
              "      <td>-0.053618</td>\n",
              "      <td>0.106551</td>\n",
              "      <td>-0.077980</td>\n",
              "      <td>0.048654</td>\n",
              "      <td>0.081188</td>\n",
              "    </tr>\n",
              "    <tr>\n",
              "      <th>liveness</th>\n",
              "      <td>-0.115251</td>\n",
              "      <td>0.157779</td>\n",
              "      <td>0.000668</td>\n",
              "      <td>0.086708</td>\n",
              "      <td>0.008886</td>\n",
              "      <td>0.131488</td>\n",
              "      <td>-0.030765</td>\n",
              "      <td>-0.050582</td>\n",
              "      <td>1.000000</td>\n",
              "      <td>0.000784</td>\n",
              "      <td>0.024861</td>\n",
              "      <td>0.005336</td>\n",
              "      <td>0.004773</td>\n",
              "      <td>0.037981</td>\n",
              "      <td>-0.011742</td>\n",
              "    </tr>\n",
              "    <tr>\n",
              "      <th>valence</th>\n",
              "      <td>0.553858</td>\n",
              "      <td>0.341427</td>\n",
              "      <td>0.007742</td>\n",
              "      <td>0.271775</td>\n",
              "      <td>0.035636</td>\n",
              "      <td>0.001528</td>\n",
              "      <td>-0.195331</td>\n",
              "      <td>-0.287047</td>\n",
              "      <td>0.000784</td>\n",
              "      <td>1.000000</td>\n",
              "      <td>0.107901</td>\n",
              "      <td>-0.172166</td>\n",
              "      <td>0.155669</td>\n",
              "      <td>-0.059120</td>\n",
              "      <td>-0.133527</td>\n",
              "    </tr>\n",
              "    <tr>\n",
              "      <th>tempo</th>\n",
              "      <td>-0.066541</td>\n",
              "      <td>0.224018</td>\n",
              "      <td>0.001154</td>\n",
              "      <td>0.169453</td>\n",
              "      <td>0.027053</td>\n",
              "      <td>0.036854</td>\n",
              "      <td>-0.179700</td>\n",
              "      <td>-0.053618</td>\n",
              "      <td>0.024861</td>\n",
              "      <td>0.107901</td>\n",
              "      <td>1.000000</td>\n",
              "      <td>-0.024318</td>\n",
              "      <td>0.007659</td>\n",
              "      <td>-0.056054</td>\n",
              "      <td>0.024905</td>\n",
              "    </tr>\n",
              "    <tr>\n",
              "      <th>duration_ms</th>\n",
              "      <td>-0.063030</td>\n",
              "      <td>0.011830</td>\n",
              "      <td>0.015493</td>\n",
              "      <td>-0.049890</td>\n",
              "      <td>-0.074828</td>\n",
              "      <td>0.007631</td>\n",
              "      <td>-0.070271</td>\n",
              "      <td>0.106551</td>\n",
              "      <td>0.005336</td>\n",
              "      <td>-0.172166</td>\n",
              "      <td>-0.024318</td>\n",
              "      <td>1.000000</td>\n",
              "      <td>0.018454</td>\n",
              "      <td>0.093875</td>\n",
              "      <td>0.888952</td>\n",
              "    </tr>\n",
              "    <tr>\n",
              "      <th>time_signature</th>\n",
              "      <td>0.191664</td>\n",
              "      <td>0.196072</td>\n",
              "      <td>0.004757</td>\n",
              "      <td>0.165520</td>\n",
              "      <td>-0.009483</td>\n",
              "      <td>0.021085</td>\n",
              "      <td>-0.188139</td>\n",
              "      <td>-0.077980</td>\n",
              "      <td>0.004773</td>\n",
              "      <td>0.155669</td>\n",
              "      <td>0.007659</td>\n",
              "      <td>0.018454</td>\n",
              "      <td>1.000000</td>\n",
              "      <td>-0.011281</td>\n",
              "      <td>0.008424</td>\n",
              "    </tr>\n",
              "    <tr>\n",
              "      <th>chorus_hit</th>\n",
              "      <td>-0.036277</td>\n",
              "      <td>0.009620</td>\n",
              "      <td>0.010264</td>\n",
              "      <td>-0.013401</td>\n",
              "      <td>-0.022594</td>\n",
              "      <td>0.012972</td>\n",
              "      <td>-0.012409</td>\n",
              "      <td>0.048654</td>\n",
              "      <td>0.037981</td>\n",
              "      <td>-0.059120</td>\n",
              "      <td>-0.056054</td>\n",
              "      <td>0.093875</td>\n",
              "      <td>-0.011281</td>\n",
              "      <td>1.000000</td>\n",
              "      <td>-0.085920</td>\n",
              "    </tr>\n",
              "    <tr>\n",
              "      <th>sections</th>\n",
              "      <td>-0.058615</td>\n",
              "      <td>-0.040233</td>\n",
              "      <td>0.006784</td>\n",
              "      <td>-0.080065</td>\n",
              "      <td>-0.057095</td>\n",
              "      <td>-0.008636</td>\n",
              "      <td>-0.016824</td>\n",
              "      <td>0.081188</td>\n",
              "      <td>-0.011742</td>\n",
              "      <td>-0.133527</td>\n",
              "      <td>0.024905</td>\n",
              "      <td>0.888952</td>\n",
              "      <td>0.008424</td>\n",
              "      <td>-0.085920</td>\n",
              "      <td>1.000000</td>\n",
              "    </tr>\n",
              "  </tbody>\n",
              "</table>\n",
              "</div>"
            ],
            "text/plain": [
              "                  danceability    energy  ...  chorus_hit  sections\n",
              "danceability          1.000000  0.206128  ...   -0.036277 -0.058615\n",
              "energy                0.206128  1.000000  ...    0.009620 -0.040233\n",
              "key                   0.015433  0.022523  ...    0.010264  0.006784\n",
              "loudness              0.274160  0.772628  ...   -0.013401 -0.080065\n",
              "mode                 -0.032743 -0.033780  ...   -0.022594 -0.057095\n",
              "speechiness           0.156452  0.122430  ...    0.012972 -0.008636\n",
              "acousticness         -0.261252 -0.715088  ...   -0.012409 -0.016824\n",
              "instrumentalness     -0.301915 -0.208153  ...    0.048654  0.081188\n",
              "liveness             -0.115251  0.157779  ...    0.037981 -0.011742\n",
              "valence               0.553858  0.341427  ...   -0.059120 -0.133527\n",
              "tempo                -0.066541  0.224018  ...   -0.056054  0.024905\n",
              "duration_ms          -0.063030  0.011830  ...    0.093875  0.888952\n",
              "time_signature        0.191664  0.196072  ...   -0.011281  0.008424\n",
              "chorus_hit           -0.036277  0.009620  ...    1.000000 -0.085920\n",
              "sections             -0.058615 -0.040233  ...   -0.085920  1.000000\n",
              "\n",
              "[15 rows x 15 columns]"
            ]
          },
          "execution_count": 8,
          "metadata": {},
          "output_type": "execute_result"
        }
      ],
      "source": [
        "pearson_corr = df.drop('target', axis=1).corr(method='pearson')\n",
        "pearson_corr"
      ]
    },
    {
      "cell_type": "code",
      "execution_count": null,
      "metadata": {
        "colab": {
          "base_uri": "https://localhost:8080/"
        },
        "id": "FNEP9DgMIlwN",
        "outputId": "a974e685-4a81-4cb7-ded4-a14bd64d810c"
      },
      "outputs": [
        {
          "data": {
            "image/png": "[encoded data removed]",
            "text/plain": [
              "<Figure size 864x864 with 2 Axes>"
            ]
          },
          "metadata": {
            "needs_background": "light"
          },
          "output_type": "display_data"
        }
      ],
      "source": [
        "fig, ax = plt.subplots(figsize=(12, 12))\n",
        "\n",
        "plt.title(\"Correlation Plot\\nAbsolute value of Pearson's Correlation Coefficient\\n\\n\")\n",
        "sns.heatmap(pearson_corr.abs(),\n",
        "            cmap=sns.diverging_palette(230, 10, as_cmap=True),\n",
        "            square=True,\n",
        "            vmin=0,\n",
        "            vmax=1,\n",
        "            ax=ax,\n",
        "            annot=True)\n",
        "plt.show()"
      ]
    },
    {
      "cell_type": "code",
      "execution_count": null,
      "metadata": {
        "colab": {
          "base_uri": "https://localhost:8080/",
          "height": 540
        },
        "id": "aPs97sKyI5Ng",
        "outputId": "9e2cca82-3c7b-4cd7-e21a-b3927488311c"
      },
      "outputs": [
        {
          "data": {
            "text/html": [
              "<div>\n",
              "<style scoped>\n",
              "    .dataframe tbody tr th:only-of-type {\n",
              "        vertical-align: middle;\n",
              "    }\n",
              "\n",
              "    .dataframe tbody tr th {\n",
              "        vertical-align: top;\n",
              "    }\n",
              "\n",
              "    .dataframe thead th {\n",
              "        text-align: right;\n",
              "    }\n",
              "</style>\n",
              "<table border=\"1\" class=\"dataframe\">\n",
              "  <thead>\n",
              "    <tr style=\"text-align: right;\">\n",
              "      <th></th>\n",
              "      <th>danceability</th>\n",
              "      <th>energy</th>\n",
              "      <th>key</th>\n",
              "      <th>loudness</th>\n",
              "      <th>mode</th>\n",
              "      <th>speechiness</th>\n",
              "      <th>acousticness</th>\n",
              "      <th>instrumentalness</th>\n",
              "      <th>liveness</th>\n",
              "      <th>valence</th>\n",
              "      <th>tempo</th>\n",
              "      <th>duration_ms</th>\n",
              "      <th>time_signature</th>\n",
              "      <th>chorus_hit</th>\n",
              "      <th>sections</th>\n",
              "    </tr>\n",
              "  </thead>\n",
              "  <tbody>\n",
              "    <tr>\n",
              "      <th>danceability</th>\n",
              "      <td>1.000000</td>\n",
              "      <td>0.164115</td>\n",
              "      <td>0.015135</td>\n",
              "      <td>0.192920</td>\n",
              "      <td>-0.039545</td>\n",
              "      <td>0.126314</td>\n",
              "      <td>-0.177026</td>\n",
              "      <td>-0.258663</td>\n",
              "      <td>-0.151263</td>\n",
              "      <td>0.534031</td>\n",
              "      <td>-0.044877</td>\n",
              "      <td>0.039293</td>\n",
              "      <td>0.204459</td>\n",
              "      <td>-0.023284</td>\n",
              "      <td>0.030663</td>\n",
              "    </tr>\n",
              "    <tr>\n",
              "      <th>energy</th>\n",
              "      <td>0.164115</td>\n",
              "      <td>1.000000</td>\n",
              "      <td>0.022282</td>\n",
              "      <td>0.755831</td>\n",
              "      <td>-0.037773</td>\n",
              "      <td>0.313679</td>\n",
              "      <td>-0.704296</td>\n",
              "      <td>-0.112258</td>\n",
              "      <td>0.125210</td>\n",
              "      <td>0.302188</td>\n",
              "      <td>0.224814</td>\n",
              "      <td>0.117404</td>\n",
              "      <td>0.204824</td>\n",
              "      <td>-0.001290</td>\n",
              "      <td>0.034705</td>\n",
              "    </tr>\n",
              "    <tr>\n",
              "      <th>key</th>\n",
              "      <td>0.015135</td>\n",
              "      <td>0.022282</td>\n",
              "      <td>1.000000</td>\n",
              "      <td>0.011473</td>\n",
              "      <td>-0.138723</td>\n",
              "      <td>0.034355</td>\n",
              "      <td>-0.025846</td>\n",
              "      <td>-0.003685</td>\n",
              "      <td>-0.003244</td>\n",
              "      <td>0.005408</td>\n",
              "      <td>0.001514</td>\n",
              "      <td>0.019078</td>\n",
              "      <td>0.007465</td>\n",
              "      <td>0.008298</td>\n",
              "      <td>0.005600</td>\n",
              "    </tr>\n",
              "    <tr>\n",
              "      <th>loudness</th>\n",
              "      <td>0.192920</td>\n",
              "      <td>0.755831</td>\n",
              "      <td>0.011473</td>\n",
              "      <td>1.000000</td>\n",
              "      <td>-0.016053</td>\n",
              "      <td>0.175412</td>\n",
              "      <td>-0.545557</td>\n",
              "      <td>-0.326982</td>\n",
              "      <td>0.082311</td>\n",
              "      <td>0.173122</td>\n",
              "      <td>0.151807</td>\n",
              "      <td>0.057817</td>\n",
              "      <td>0.152944</td>\n",
              "      <td>-0.010751</td>\n",
              "      <td>0.000460</td>\n",
              "    </tr>\n",
              "    <tr>\n",
              "      <th>mode</th>\n",
              "      <td>-0.039545</td>\n",
              "      <td>-0.037773</td>\n",
              "      <td>-0.138723</td>\n",
              "      <td>-0.016053</td>\n",
              "      <td>1.000000</td>\n",
              "      <td>-0.105583</td>\n",
              "      <td>0.055872</td>\n",
              "      <td>-0.079649</td>\n",
              "      <td>0.016884</td>\n",
              "      <td>0.033830</td>\n",
              "      <td>0.026574</td>\n",
              "      <td>-0.096990</td>\n",
              "      <td>-0.013926</td>\n",
              "      <td>-0.015232</td>\n",
              "      <td>-0.063743</td>\n",
              "    </tr>\n",
              "    <tr>\n",
              "      <th>speechiness</th>\n",
              "      <td>0.126314</td>\n",
              "      <td>0.313679</td>\n",
              "      <td>0.034355</td>\n",
              "      <td>0.175412</td>\n",
              "      <td>-0.105583</td>\n",
              "      <td>1.000000</td>\n",
              "      <td>-0.207493</td>\n",
              "      <td>-0.024476</td>\n",
              "      <td>0.087085</td>\n",
              "      <td>0.041495</td>\n",
              "      <td>0.097644</td>\n",
              "      <td>0.035815</td>\n",
              "      <td>0.063520</td>\n",
              "      <td>0.007550</td>\n",
              "      <td>-0.007361</td>\n",
              "    </tr>\n",
              "    <tr>\n",
              "      <th>acousticness</th>\n",
              "      <td>-0.177026</td>\n",
              "      <td>-0.704296</td>\n",
              "      <td>-0.025846</td>\n",
              "      <td>-0.545557</td>\n",
              "      <td>0.055872</td>\n",
              "      <td>-0.207493</td>\n",
              "      <td>1.000000</td>\n",
              "      <td>0.060174</td>\n",
              "      <td>-0.017131</td>\n",
              "      <td>-0.114566</td>\n",
              "      <td>-0.190844</td>\n",
              "      <td>-0.224878</td>\n",
              "      <td>-0.187073</td>\n",
              "      <td>-0.009121</td>\n",
              "      <td>-0.119316</td>\n",
              "    </tr>\n",
              "    <tr>\n",
              "      <th>instrumentalness</th>\n",
              "      <td>-0.258663</td>\n",
              "      <td>-0.112258</td>\n",
              "      <td>-0.003685</td>\n",
              "      <td>-0.326982</td>\n",
              "      <td>-0.079649</td>\n",
              "      <td>-0.024476</td>\n",
              "      <td>0.060174</td>\n",
              "      <td>1.000000</td>\n",
              "      <td>-0.052351</td>\n",
              "      <td>-0.229456</td>\n",
              "      <td>-0.033247</td>\n",
              "      <td>0.122798</td>\n",
              "      <td>-0.061281</td>\n",
              "      <td>0.044166</td>\n",
              "      <td>0.082300</td>\n",
              "    </tr>\n",
              "    <tr>\n",
              "      <th>liveness</th>\n",
              "      <td>-0.151263</td>\n",
              "      <td>0.125210</td>\n",
              "      <td>-0.003244</td>\n",
              "      <td>0.082311</td>\n",
              "      <td>0.016884</td>\n",
              "      <td>0.087085</td>\n",
              "      <td>-0.017131</td>\n",
              "      <td>-0.052351</td>\n",
              "      <td>1.000000</td>\n",
              "      <td>-0.029925</td>\n",
              "      <td>0.020468</td>\n",
              "      <td>-0.068181</td>\n",
              "      <td>-0.002913</td>\n",
              "      <td>0.018235</td>\n",
              "      <td>-0.064969</td>\n",
              "    </tr>\n",
              "    <tr>\n",
              "      <th>valence</th>\n",
              "      <td>0.534031</td>\n",
              "      <td>0.302188</td>\n",
              "      <td>0.005408</td>\n",
              "      <td>0.173122</td>\n",
              "      <td>0.033830</td>\n",
              "      <td>0.041495</td>\n",
              "      <td>-0.114566</td>\n",
              "      <td>-0.229456</td>\n",
              "      <td>-0.029925</td>\n",
              "      <td>1.000000</td>\n",
              "      <td>0.110336</td>\n",
              "      <td>-0.171493</td>\n",
              "      <td>0.165699</td>\n",
              "      <td>-0.044105</td>\n",
              "      <td>-0.103174</td>\n",
              "    </tr>\n",
              "    <tr>\n",
              "      <th>tempo</th>\n",
              "      <td>-0.044877</td>\n",
              "      <td>0.224814</td>\n",
              "      <td>0.001514</td>\n",
              "      <td>0.151807</td>\n",
              "      <td>0.026574</td>\n",
              "      <td>0.097644</td>\n",
              "      <td>-0.190844</td>\n",
              "      <td>-0.033247</td>\n",
              "      <td>0.020468</td>\n",
              "      <td>0.110336</td>\n",
              "      <td>1.000000</td>\n",
              "      <td>0.006204</td>\n",
              "      <td>0.011743</td>\n",
              "      <td>-0.046603</td>\n",
              "      <td>0.073670</td>\n",
              "    </tr>\n",
              "    <tr>\n",
              "      <th>duration_ms</th>\n",
              "      <td>0.039293</td>\n",
              "      <td>0.117404</td>\n",
              "      <td>0.019078</td>\n",
              "      <td>0.057817</td>\n",
              "      <td>-0.096990</td>\n",
              "      <td>0.035815</td>\n",
              "      <td>-0.224878</td>\n",
              "      <td>0.122798</td>\n",
              "      <td>-0.068181</td>\n",
              "      <td>-0.171493</td>\n",
              "      <td>0.006204</td>\n",
              "      <td>1.000000</td>\n",
              "      <td>0.048742</td>\n",
              "      <td>0.075265</td>\n",
              "      <td>0.785411</td>\n",
              "    </tr>\n",
              "    <tr>\n",
              "      <th>time_signature</th>\n",
              "      <td>0.204459</td>\n",
              "      <td>0.204824</td>\n",
              "      <td>0.007465</td>\n",
              "      <td>0.152944</td>\n",
              "      <td>-0.013926</td>\n",
              "      <td>0.063520</td>\n",
              "      <td>-0.187073</td>\n",
              "      <td>-0.061281</td>\n",
              "      <td>-0.002913</td>\n",
              "      <td>0.165699</td>\n",
              "      <td>0.011743</td>\n",
              "      <td>0.048742</td>\n",
              "      <td>1.000000</td>\n",
              "      <td>-0.007872</td>\n",
              "      <td>0.024288</td>\n",
              "    </tr>\n",
              "    <tr>\n",
              "      <th>chorus_hit</th>\n",
              "      <td>-0.023284</td>\n",
              "      <td>-0.001290</td>\n",
              "      <td>0.008298</td>\n",
              "      <td>-0.010751</td>\n",
              "      <td>-0.015232</td>\n",
              "      <td>0.007550</td>\n",
              "      <td>-0.009121</td>\n",
              "      <td>0.044166</td>\n",
              "      <td>0.018235</td>\n",
              "      <td>-0.044105</td>\n",
              "      <td>-0.046603</td>\n",
              "      <td>0.075265</td>\n",
              "      <td>-0.007872</td>\n",
              "      <td>1.000000</td>\n",
              "      <td>-0.161139</td>\n",
              "    </tr>\n",
              "    <tr>\n",
              "      <th>sections</th>\n",
              "      <td>0.030663</td>\n",
              "      <td>0.034705</td>\n",
              "      <td>0.005600</td>\n",
              "      <td>0.000460</td>\n",
              "      <td>-0.063743</td>\n",
              "      <td>-0.007361</td>\n",
              "      <td>-0.119316</td>\n",
              "      <td>0.082300</td>\n",
              "      <td>-0.064969</td>\n",
              "      <td>-0.103174</td>\n",
              "      <td>0.073670</td>\n",
              "      <td>0.785411</td>\n",
              "      <td>0.024288</td>\n",
              "      <td>-0.161139</td>\n",
              "      <td>1.000000</td>\n",
              "    </tr>\n",
              "  </tbody>\n",
              "</table>\n",
              "</div>"
            ],
            "text/plain": [
              "                  danceability    energy  ...  chorus_hit  sections\n",
              "danceability          1.000000  0.164115  ...   -0.023284  0.030663\n",
              "energy                0.164115  1.000000  ...   -0.001290  0.034705\n",
              "key                   0.015135  0.022282  ...    0.008298  0.005600\n",
              "loudness              0.192920  0.755831  ...   -0.010751  0.000460\n",
              "mode                 -0.039545 -0.037773  ...   -0.015232 -0.063743\n",
              "speechiness           0.126314  0.313679  ...    0.007550 -0.007361\n",
              "acousticness         -0.177026 -0.704296  ...   -0.009121 -0.119316\n",
              "instrumentalness     -0.258663 -0.112258  ...    0.044166  0.082300\n",
              "liveness             -0.151263  0.125210  ...    0.018235 -0.064969\n",
              "valence               0.534031  0.302188  ...   -0.044105 -0.103174\n",
              "tempo                -0.044877  0.224814  ...   -0.046603  0.073670\n",
              "duration_ms           0.039293  0.117404  ...    0.075265  0.785411\n",
              "time_signature        0.204459  0.204824  ...   -0.007872  0.024288\n",
              "chorus_hit           -0.023284 -0.001290  ...    1.000000 -0.161139\n",
              "sections              0.030663  0.034705  ...   -0.161139  1.000000\n",
              "\n",
              "[15 rows x 15 columns]"
            ]
          },
          "execution_count": 65,
          "metadata": {},
          "output_type": "execute_result"
        }
      ],
      "source": [
        "spearman_corr = df.drop('target', axis=1).corr(method='spearman')\n",
        "spearman_corr"
      ]
    },
    {
      "cell_type": "code",
      "execution_count": null,
      "metadata": {
        "colab": {
          "base_uri": "https://localhost:8080/",
          "height": 723
        },
        "id": "U457t_ZKI_zN",
        "outputId": "ef2fb677-8a74-4040-f1ba-d05c99966009"
      },
      "outputs": [
        {
          "data": {
            "image/png": "[encoded data removed]",
            "text/plain": [
              "<Figure size 864x864 with 2 Axes>"
            ]
          },
          "metadata": {
            "needs_background": "light"
          },
          "output_type": "display_data"
        }
      ],
      "source": [
        "fig, ax = plt.subplots(figsize=(12, 12))\n",
        "\n",
        "plt.title(\"Correlation Plot\\nAbsolute value of Spearman's Correlation Coefficient\\n\\n\")\n",
        "sns.heatmap(spearman_corr.abs(),\n",
        "            cmap='GnBu',\n",
        "            square=True,\n",
        "            vmin=0,\n",
        "            vmax=1,\n",
        "            ax=ax,\n",
        "            annot=True)\n",
        "plt.show()"
      ]
    },
    {
      "cell_type": "code",
      "execution_count": null,
      "metadata": {
        "id": "6jFuXI5tLywN"
      },
      "outputs": [],
      "source": [
        "df = df.drop(['duration_ms'], axis=1)"
      ]
    },
    {
      "cell_type": "code",
      "execution_count": null,
      "metadata": {
        "colab": {
          "base_uri": "https://localhost:8080/"
        },
        "id": "D9lN1tAULBwa",
        "outputId": "74f91a4e-9399-437b-de89-86a97b714481"
      },
      "outputs": [
        {
          "data": {
            "text/plain": [
              "instrumentalness    8191.354832\n",
              "danceability        5593.567971\n",
              "loudness            3662.603077\n",
              "valence             2767.155200\n",
              "acousticness        2648.497971\n",
              "energy              1331.603763\n",
              "time_signature       457.200615\n",
              "mode                 262.192995\n",
              "duration_ms          225.216243\n",
              "sections             148.494372\n",
              "liveness             109.074262\n",
              "chorus_hit            88.718788\n",
              "speechiness           68.656857\n",
              "tempo                 43.861277\n",
              "key                    4.014785\n",
              "dtype: float64"
            ]
          },
          "execution_count": 109,
          "metadata": {},
          "output_type": "execute_result"
        }
      ],
      "source": [
        "from sklearn.feature_selection import f_classif\n",
        "anova_f_values = f_classif(df.drop(['target'], axis=1), df['target'])[0]\n",
        "\n",
        "linear_corr = pd.Series(anova_f_values, index=df.drop(['target'], axis=1).columns)\n",
        "linear_corr.sort_values(ascending=False)"
      ]
    },
    {
      "cell_type": "markdown",
      "metadata": {
        "id": "utNGRqtbM6nj"
      },
      "source": [
        "Since the correlation values between any two variables is not greater than 90%, none of the attributes were removed."
      ]
    },
    {
      "cell_type": "markdown",
      "metadata": {
        "id": "QnPcqypkBq3b"
      },
      "source": [
        "## Model Training & Tuning\n"
      ]
    },
    {
      "cell_type": "markdown",
      "metadata": {
        "id": "9NOChJP23ax9"
      },
      "source": [
        "### Splitting entire dataset into train/val/test ratio of 80/20/20 %"
      ]
    },
    {
      "cell_type": "code",
      "execution_count": null,
      "metadata": {
        "colab": {
          "base_uri": "https://localhost:8080/"
        },
        "id": "e6bAsP9SBsZ5",
        "outputId": "4dda88f1-2ecc-4ca7-f5d2-b841cdcaf6db"
      },
      "outputs": [
        {
          "name": "stdout",
          "output_type": "stream",
          "text": [
            "41106 32884 24663 8221 8222\n"
          ]
        }
      ],
      "source": [
        "df_full_train, df_test = train_test_split(df, test_size=0.2, random_state=11)\n",
        "df_train, df_val = train_test_split(df_full_train, test_size=0.25, random_state=11)\n",
        "print(len(df), len(df_full_train), len(df_train), len(df_val), len(df_test))"
      ]
    },
    {
      "cell_type": "code",
      "execution_count": null,
      "metadata": {
        "id": "6gklHxIALW7B"
      },
      "outputs": [],
      "source": [
        "df_train.reset_index(drop=True, inplace=True)\n",
        "df_val.reset_index(drop=True, inplace=True)\n",
        "df_test.reset_index(drop=True, inplace=True)"
      ]
    },
    {
      "cell_type": "code",
      "execution_count": null,
      "metadata": {
        "id": "lnHi-VgRL0Uu"
      },
      "outputs": [],
      "source": [
        "y_train = df_train.target.values\n",
        "y_val = df_val.target.values\n",
        "y_test = df_test.target.values"
      ]
    },
    {
      "cell_type": "code",
      "execution_count": null,
      "metadata": {
        "id": "b0xkP6vsL98y"
      },
      "outputs": [],
      "source": [
        "del df_train['target']\n",
        "del df_val['target']\n",
        "del df_test['target']"
      ]
    },
    {
      "cell_type": "code",
      "execution_count": null,
      "metadata": {
        "colab": {
          "base_uri": "https://localhost:8080/",
          "height": 826
        },
        "id": "WlJ4JWbHMMm8",
        "outputId": "1485477b-0892-4c57-cab7-2dce14a49f64"
      },
      "outputs": [
        {
          "data": {
            "text/html": [
              "<div>\n",
              "<style scoped>\n",
              "    .dataframe tbody tr th:only-of-type {\n",
              "        vertical-align: middle;\n",
              "    }\n",
              "\n",
              "    .dataframe tbody tr th {\n",
              "        vertical-align: top;\n",
              "    }\n",
              "\n",
              "    .dataframe thead th {\n",
              "        text-align: right;\n",
              "    }\n",
              "</style>\n",
              "<table border=\"1\" class=\"dataframe\">\n",
              "  <thead>\n",
              "    <tr style=\"text-align: right;\">\n",
              "      <th></th>\n",
              "      <th>track</th>\n",
              "      <th>artist</th>\n",
              "      <th>uri</th>\n",
              "      <th>danceability</th>\n",
              "      <th>energy</th>\n",
              "      <th>key</th>\n",
              "      <th>loudness</th>\n",
              "      <th>mode</th>\n",
              "      <th>speechiness</th>\n",
              "      <th>acousticness</th>\n",
              "      <th>instrumentalness</th>\n",
              "      <th>liveness</th>\n",
              "      <th>valence</th>\n",
              "      <th>tempo</th>\n",
              "      <th>duration_ms</th>\n",
              "      <th>time_signature</th>\n",
              "      <th>chorus_hit</th>\n",
              "      <th>sections</th>\n",
              "    </tr>\n",
              "  </thead>\n",
              "  <tbody>\n",
              "    <tr>\n",
              "      <th>0</th>\n",
              "      <td>Protector of the Common Folk</td>\n",
              "      <td>Howard Shore</td>\n",
              "      <td>spotify:track:3wlVdDCUCO1SS3xND0pBBc</td>\n",
              "      <td>0.1960</td>\n",
              "      <td>0.0765</td>\n",
              "      <td>0</td>\n",
              "      <td>-22.721</td>\n",
              "      <td>0</td>\n",
              "      <td>0.0380</td>\n",
              "      <td>0.904000</td>\n",
              "      <td>0.805000</td>\n",
              "      <td>0.1110</td>\n",
              "      <td>0.0381</td>\n",
              "      <td>111.672</td>\n",
              "      <td>215065</td>\n",
              "      <td>4</td>\n",
              "      <td>47.23415</td>\n",
              "      <td>11</td>\n",
              "    </tr>\n",
              "    <tr>\n",
              "      <th>1</th>\n",
              "      <td>Mega Force</td>\n",
              "      <td>707</td>\n",
              "      <td>spotify:track:3LQwO6kRKpAUxHunIJHDAh</td>\n",
              "      <td>0.4190</td>\n",
              "      <td>0.8750</td>\n",
              "      <td>9</td>\n",
              "      <td>-6.584</td>\n",
              "      <td>1</td>\n",
              "      <td>0.0732</td>\n",
              "      <td>0.012400</td>\n",
              "      <td>0.001150</td>\n",
              "      <td>0.2110</td>\n",
              "      <td>0.7260</td>\n",
              "      <td>140.783</td>\n",
              "      <td>241333</td>\n",
              "      <td>4</td>\n",
              "      <td>32.75766</td>\n",
              "      <td>11</td>\n",
              "    </tr>\n",
              "    <tr>\n",
              "      <th>2</th>\n",
              "      <td>Peau d'âne arrive à la ferme</td>\n",
              "      <td>Michel Legrand</td>\n",
              "      <td>spotify:track:2Q8gJke42fYWvZPPzGaFCH</td>\n",
              "      <td>0.3790</td>\n",
              "      <td>0.3120</td>\n",
              "      <td>7</td>\n",
              "      <td>-14.960</td>\n",
              "      <td>1</td>\n",
              "      <td>0.0320</td>\n",
              "      <td>0.971000</td>\n",
              "      <td>0.782000</td>\n",
              "      <td>0.0911</td>\n",
              "      <td>0.1360</td>\n",
              "      <td>75.594</td>\n",
              "      <td>96467</td>\n",
              "      <td>1</td>\n",
              "      <td>62.04693</td>\n",
              "      <td>5</td>\n",
              "    </tr>\n",
              "    <tr>\n",
              "      <th>3</th>\n",
              "      <td>We'll Sing In The Sunshine</td>\n",
              "      <td>Gale Garnett</td>\n",
              "      <td>spotify:track:3WYYzUlLrl4NVNeoKd7MnG</td>\n",
              "      <td>0.5360</td>\n",
              "      <td>0.3510</td>\n",
              "      <td>11</td>\n",
              "      <td>-8.026</td>\n",
              "      <td>1</td>\n",
              "      <td>0.0266</td>\n",
              "      <td>0.762000</td>\n",
              "      <td>0.000000</td>\n",
              "      <td>0.2200</td>\n",
              "      <td>0.5320</td>\n",
              "      <td>106.730</td>\n",
              "      <td>179120</td>\n",
              "      <td>4</td>\n",
              "      <td>20.30345</td>\n",
              "      <td>10</td>\n",
              "    </tr>\n",
              "    <tr>\n",
              "      <th>4</th>\n",
              "      <td>Looking at You</td>\n",
              "      <td>The Damned</td>\n",
              "      <td>spotify:track:55oYn88qoKKWZCI0W0xoVO</td>\n",
              "      <td>0.2710</td>\n",
              "      <td>0.9270</td>\n",
              "      <td>2</td>\n",
              "      <td>-8.030</td>\n",
              "      <td>1</td>\n",
              "      <td>0.1180</td>\n",
              "      <td>0.000178</td>\n",
              "      <td>0.361000</td>\n",
              "      <td>0.1130</td>\n",
              "      <td>0.3950</td>\n",
              "      <td>125.258</td>\n",
              "      <td>307060</td>\n",
              "      <td>4</td>\n",
              "      <td>30.19480</td>\n",
              "      <td>12</td>\n",
              "    </tr>\n",
              "    <tr>\n",
              "      <th>...</th>\n",
              "      <td>...</td>\n",
              "      <td>...</td>\n",
              "      <td>...</td>\n",
              "      <td>...</td>\n",
              "      <td>...</td>\n",
              "      <td>...</td>\n",
              "      <td>...</td>\n",
              "      <td>...</td>\n",
              "      <td>...</td>\n",
              "      <td>...</td>\n",
              "      <td>...</td>\n",
              "      <td>...</td>\n",
              "      <td>...</td>\n",
              "      <td>...</td>\n",
              "      <td>...</td>\n",
              "      <td>...</td>\n",
              "      <td>...</td>\n",
              "      <td>...</td>\n",
              "    </tr>\n",
              "    <tr>\n",
              "      <th>8216</th>\n",
              "      <td>Shangri-La</td>\n",
              "      <td>Vic Dana</td>\n",
              "      <td>spotify:track:5uPKJXCJse6seJX3DegLDN</td>\n",
              "      <td>0.2550</td>\n",
              "      <td>0.2830</td>\n",
              "      <td>8</td>\n",
              "      <td>-9.941</td>\n",
              "      <td>1</td>\n",
              "      <td>0.0294</td>\n",
              "      <td>0.848000</td>\n",
              "      <td>0.000003</td>\n",
              "      <td>0.0822</td>\n",
              "      <td>0.1420</td>\n",
              "      <td>85.574</td>\n",
              "      <td>126347</td>\n",
              "      <td>3</td>\n",
              "      <td>41.17920</td>\n",
              "      <td>6</td>\n",
              "    </tr>\n",
              "    <tr>\n",
              "      <th>8217</th>\n",
              "      <td>Binaural Beta Sinus Drone II</td>\n",
              "      <td>The Entrainment</td>\n",
              "      <td>spotify:track:0lkzynfIVpyaY80ARPIFwy</td>\n",
              "      <td>0.0733</td>\n",
              "      <td>0.0120</td>\n",
              "      <td>2</td>\n",
              "      <td>-28.885</td>\n",
              "      <td>1</td>\n",
              "      <td>0.0567</td>\n",
              "      <td>0.996000</td>\n",
              "      <td>0.990000</td>\n",
              "      <td>0.0864</td>\n",
              "      <td>0.0307</td>\n",
              "      <td>176.654</td>\n",
              "      <td>212000</td>\n",
              "      <td>3</td>\n",
              "      <td>121.99132</td>\n",
              "      <td>12</td>\n",
              "    </tr>\n",
              "    <tr>\n",
              "      <th>8218</th>\n",
              "      <td>Talk Talk</td>\n",
              "      <td>The Music Machine</td>\n",
              "      <td>spotify:track:3J9VPVRnoqyF0keO1nReTz</td>\n",
              "      <td>0.6840</td>\n",
              "      <td>0.8640</td>\n",
              "      <td>1</td>\n",
              "      <td>-6.838</td>\n",
              "      <td>1</td>\n",
              "      <td>0.0461</td>\n",
              "      <td>0.038400</td>\n",
              "      <td>0.000233</td>\n",
              "      <td>0.1070</td>\n",
              "      <td>0.8410</td>\n",
              "      <td>107.028</td>\n",
              "      <td>118133</td>\n",
              "      <td>4</td>\n",
              "      <td>20.68042</td>\n",
              "      <td>7</td>\n",
              "    </tr>\n",
              "    <tr>\n",
              "      <th>8219</th>\n",
              "      <td>L'homme et son chien</td>\n",
              "      <td>Vladimir Cosma</td>\n",
              "      <td>spotify:track:7M3Y6833GRH45yL4OH7Msk</td>\n",
              "      <td>0.3640</td>\n",
              "      <td>0.0929</td>\n",
              "      <td>2</td>\n",
              "      <td>-19.964</td>\n",
              "      <td>0</td>\n",
              "      <td>0.0328</td>\n",
              "      <td>0.964000</td>\n",
              "      <td>0.838000</td>\n",
              "      <td>0.1220</td>\n",
              "      <td>0.2020</td>\n",
              "      <td>113.024</td>\n",
              "      <td>149427</td>\n",
              "      <td>4</td>\n",
              "      <td>24.80795</td>\n",
              "      <td>9</td>\n",
              "    </tr>\n",
              "    <tr>\n",
              "      <th>8220</th>\n",
              "      <td>Johnny Have You Seen Her?</td>\n",
              "      <td>The Rembrandts</td>\n",
              "      <td>spotify:track:7uzrNM9kePQSlnNOxtEX4n</td>\n",
              "      <td>0.5970</td>\n",
              "      <td>0.5790</td>\n",
              "      <td>7</td>\n",
              "      <td>-6.165</td>\n",
              "      <td>1</td>\n",
              "      <td>0.0241</td>\n",
              "      <td>0.051100</td>\n",
              "      <td>0.000000</td>\n",
              "      <td>0.2210</td>\n",
              "      <td>0.6680</td>\n",
              "      <td>91.193</td>\n",
              "      <td>255760</td>\n",
              "      <td>4</td>\n",
              "      <td>27.26899</td>\n",
              "      <td>12</td>\n",
              "    </tr>\n",
              "  </tbody>\n",
              "</table>\n",
              "<p>8221 rows × 18 columns</p>\n",
              "</div>"
            ],
            "text/plain": [
              "                             track             artist  ... chorus_hit  sections\n",
              "0     Protector of the Common Folk       Howard Shore  ...   47.23415        11\n",
              "1                       Mega Force                707  ...   32.75766        11\n",
              "2     Peau d'âne arrive à la ferme     Michel Legrand  ...   62.04693         5\n",
              "3       We'll Sing In The Sunshine       Gale Garnett  ...   20.30345        10\n",
              "4                   Looking at You         The Damned  ...   30.19480        12\n",
              "...                            ...                ...  ...        ...       ...\n",
              "8216                    Shangri-La           Vic Dana  ...   41.17920         6\n",
              "8217  Binaural Beta Sinus Drone II    The Entrainment  ...  121.99132        12\n",
              "8218                     Talk Talk  The Music Machine  ...   20.68042         7\n",
              "8219          L'homme et son chien     Vladimir Cosma  ...   24.80795         9\n",
              "8220     Johnny Have You Seen Her?     The Rembrandts  ...   27.26899        12\n",
              "\n",
              "[8221 rows x 18 columns]"
            ]
          },
          "execution_count": 8,
          "metadata": {},
          "output_type": "execute_result"
        }
      ],
      "source": [
        "df_val"
      ]
    },
    {
      "cell_type": "markdown",
      "metadata": {
        "id": "1VdklIF53k2M"
      },
      "source": [
        "### Using a dict vectorizer \n",
        "\n",
        "(Note: the dataset consists of only Numerical variables, using a dict vectorizer will not have any effect, this is to show that the shape does not change.)"
      ]
    },
    {
      "cell_type": "code",
      "execution_count": null,
      "metadata": {
        "id": "ptyknqdaNW9c"
      },
      "outputs": [],
      "source": [
        "from sklearn.feature_extraction import DictVectorizer\n",
        "from sklearn.metrics import roc_auc_score"
      ]
    },
    {
      "cell_type": "code",
      "execution_count": null,
      "metadata": {
        "id": "7B57QohOM6N8"
      },
      "outputs": [],
      "source": [
        "train_dicts = df_train.to_dict(orient='records')"
      ]
    },
    {
      "cell_type": "code",
      "execution_count": null,
      "metadata": {
        "id": "ppKdttcjNIZA"
      },
      "outputs": [],
      "source": [
        "dv = DictVectorizer(sparse=False)\n",
        "X_train = dv.fit_transform(train_dicts)"
      ]
    },
    {
      "cell_type": "code",
      "execution_count": null,
      "metadata": {
        "id": "wAjJAzXlNWtq"
      },
      "outputs": [],
      "source": [
        "val_dicts = df_val.to_dict(orient='records')\n",
        "X_val = dv.transform(val_dicts)"
      ]
    },
    {
      "cell_type": "code",
      "execution_count": null,
      "metadata": {
        "colab": {
          "base_uri": "https://localhost:8080/"
        },
        "id": "3xaKOjKhgsNd",
        "outputId": "086d81dd-7067-4c56-a942-a115123db146"
      },
      "outputs": [
        {
          "data": {
            "text/plain": [
              "(8221, 15)"
            ]
          },
          "execution_count": 12,
          "metadata": {},
          "output_type": "execute_result"
        }
      ],
      "source": [
        "df_val.shape"
      ]
    },
    {
      "cell_type": "code",
      "execution_count": null,
      "metadata": {
        "colab": {
          "base_uri": "https://localhost:8080/"
        },
        "id": "KvA6Cu0GgnTC",
        "outputId": "95598f3c-f0b7-44fa-e85b-be1b979eb332"
      },
      "outputs": [
        {
          "data": {
            "text/plain": [
              "(8221, 15)"
            ]
          },
          "execution_count": 13,
          "metadata": {},
          "output_type": "execute_result"
        }
      ],
      "source": [
        "X_val.shape"
      ]
    },
    {
      "cell_type": "markdown",
      "metadata": {
        "id": "UAhfaWmHB1z_"
      },
      "source": [
        "### Logistic Regression"
      ]
    },
    {
      "cell_type": "code",
      "execution_count": null,
      "metadata": {
        "id": "zBdYXLiRB10D"
      },
      "outputs": [],
      "source": [
        "from sklearn.linear_model import LogisticRegression"
      ]
    },
    {
      "cell_type": "code",
      "execution_count": null,
      "metadata": {
        "colab": {
          "base_uri": "https://localhost:8080/"
        },
        "id": "aE1n-8BQcGdK",
        "outputId": "4c7966f0-1dde-46b0-87e8-e6e1457ef4cb"
      },
      "outputs": [
        {
          "data": {
            "text/plain": [
              "LogisticRegression(C=1.0, class_weight=None, dual=False, fit_intercept=True,\n",
              "                   intercept_scaling=1, l1_ratio=None, max_iter=100,\n",
              "                   multi_class='auto', n_jobs=None, penalty='l2',\n",
              "                   random_state=11, solver='lbfgs', tol=0.0001, verbose=0,\n",
              "                   warm_start=False)"
            ]
          },
          "execution_count": 22,
          "metadata": {},
          "output_type": "execute_result"
        }
      ],
      "source": [
        "model = LogisticRegression(solver='lbfgs', random_state=11)\n",
        "model.fit(X_train, y_train)"
      ]
    },
    {
      "cell_type": "code",
      "execution_count": null,
      "metadata": {
        "colab": {
          "base_uri": "https://localhost:8080/"
        },
        "id": "A5YEYZSFcG1r",
        "outputId": "4bd8e3cf-a4fb-444a-c767-ebe3aa29d8e6"
      },
      "outputs": [
        {
          "data": {
            "text/plain": [
              "0.4828437283025032"
            ]
          },
          "execution_count": 23,
          "metadata": {},
          "output_type": "execute_result"
        }
      ],
      "source": [
        "y_pred = model.predict_proba(X_val)[:, 1]\n",
        "roc_auc_score(y_val, y_pred)"
      ]
    },
    {
      "cell_type": "code",
      "execution_count": null,
      "metadata": {
        "colab": {
          "base_uri": "https://localhost:8080/"
        },
        "id": "Xk_uNYIeeiXI",
        "outputId": "3bec6b7c-b2e2-43f1-e82a-d70e1d4969ed"
      },
      "outputs": [
        {
          "data": {
            "text/plain": [
              "0.4900156738527594"
            ]
          },
          "execution_count": 24,
          "metadata": {},
          "output_type": "execute_result"
        }
      ],
      "source": [
        "y_pred = model.predict_proba(X_train)[:, 1]\n",
        "roc_auc_score(y_train, y_pred)"
      ]
    },
    {
      "cell_type": "markdown",
      "metadata": {
        "id": "UNGxjMF9NMm7"
      },
      "source": [
        "The untuned LR model has an accuracy of 48.28% on the validation dataset."
      ]
    },
    {
      "cell_type": "code",
      "execution_count": null,
      "metadata": {
        "id": "QZrSgU4ddaWS"
      },
      "outputs": [],
      "source": [
        "param_grid = {\n",
        "              'penalty' : ['l1', 'l2', 'elasticnet', 'none'],\n",
        "              'C' : np.logspace(0, 5, 10),\n",
        "              'solver' : ['liblinear', 'lbfgs', 'newton-cg']\n",
        "              }"
      ]
    },
    {
      "cell_type": "code",
      "execution_count": null,
      "metadata": {
        "id": "MpvdH-9pdjw8"
      },
      "outputs": [],
      "source": [
        "grid_search = GridSearchCV(LogisticRegression(random_state=11), param_grid=param_grid, cv=10, verbose=True, n_jobs=-1)"
      ]
    },
    {
      "cell_type": "code",
      "execution_count": null,
      "metadata": {
        "colab": {
          "base_uri": "https://localhost:8080/"
        },
        "id": "anvzaqZbeDvG",
        "outputId": "b79533f7-d8a0-4691-f508-a625de485a80"
      },
      "outputs": [
        {
          "name": "stdout",
          "output_type": "stream",
          "text": [
            "Fitting 10 folds for each of 120 candidates, totalling 1200 fits\n"
          ]
        },
        {
          "name": "stderr",
          "output_type": "stream",
          "text": [
            "[Parallel(n_jobs=-1)]: Using backend LokyBackend with 2 concurrent workers.\n",
            "[Parallel(n_jobs=-1)]: Done  90 tasks      | elapsed:   27.9s\n",
            "[Parallel(n_jobs=-1)]: Done 439 tasks      | elapsed:  3.3min\n",
            "[Parallel(n_jobs=-1)]: Done 861 tasks      | elapsed:  6.8min\n",
            "[Parallel(n_jobs=-1)]: Done 1200 out of 1200 | elapsed:  9.7min finished\n"
          ]
        },
        {
          "data": {
            "text/plain": [
              "GridSearchCV(cv=10, error_score=nan,\n",
              "             estimator=LogisticRegression(C=1.0, class_weight=None, dual=False,\n",
              "                                          fit_intercept=True,\n",
              "                                          intercept_scaling=1, l1_ratio=None,\n",
              "                                          max_iter=100, multi_class='auto',\n",
              "                                          n_jobs=None, penalty='l2',\n",
              "                                          random_state=11, solver='lbfgs',\n",
              "                                          tol=0.0001, verbose=0,\n",
              "                                          warm_start=False),\n",
              "             iid='deprecated', n_jobs=-1,\n",
              "             param_grid={'C': array([1.00000000e+00, 3.59381366e+00, 1.29154967e+01, 4.64158883e+01,\n",
              "       1.66810054e+02, 5.99484250e+02, 2.15443469e+03, 7.74263683e+03,\n",
              "       2.78255940e+04, 1.00000000e+05]),\n",
              "                         'penalty': ['l1', 'l2', 'elasticnet', 'none'],\n",
              "                         'solver': ['liblinear', 'lbfgs', 'newton-cg']},\n",
              "             pre_dispatch='2*n_jobs', refit=True, return_train_score=False,\n",
              "             scoring=None, verbose=True)"
            ]
          },
          "execution_count": 27,
          "metadata": {},
          "output_type": "execute_result"
        }
      ],
      "source": [
        "grid_search.fit(X_train, y_train)"
      ]
    },
    {
      "cell_type": "code",
      "execution_count": null,
      "metadata": {
        "colab": {
          "base_uri": "https://localhost:8080/"
        },
        "id": "YgNad857i5sQ",
        "outputId": "00e1e001-25db-41e0-b507-a004397ff08e"
      },
      "outputs": [
        {
          "data": {
            "text/plain": [
              "LogisticRegression(C=3.5938136638046276, class_weight=None, dual=False,\n",
              "                   fit_intercept=True, intercept_scaling=1, l1_ratio=None,\n",
              "                   max_iter=100, multi_class='auto', n_jobs=None, penalty='l1',\n",
              "                   random_state=11, solver='liblinear', tol=0.0001, verbose=0,\n",
              "                   warm_start=False)"
            ]
          },
          "execution_count": 29,
          "metadata": {},
          "output_type": "execute_result"
        }
      ],
      "source": [
        "final_model = grid_search.best_estimator_\n",
        "final_model"
      ]
    },
    {
      "cell_type": "code",
      "execution_count": null,
      "metadata": {
        "colab": {
          "base_uri": "https://localhost:8080/"
        },
        "id": "v0vvXLvHeGln",
        "outputId": "2ef44124-cd53-4f7d-ebbb-c5b73e87825e"
      },
      "outputs": [
        {
          "data": {
            "text/plain": [
              "0.8084125763648298"
            ]
          },
          "execution_count": 31,
          "metadata": {},
          "output_type": "execute_result"
        }
      ],
      "source": [
        "y_pred = final_model.predict_proba(X_val)[:, 1]\n",
        "roc_auc_score(y_val, y_pred)"
      ]
    },
    {
      "cell_type": "code",
      "execution_count": null,
      "metadata": {
        "colab": {
          "base_uri": "https://localhost:8080/"
        },
        "id": "H0e_gA3Qed0H",
        "outputId": "5e6f4c6c-f69e-4fe9-fc96-19a08d2c6554"
      },
      "outputs": [
        {
          "data": {
            "text/plain": [
              "0.8030103843105169"
            ]
          },
          "execution_count": 32,
          "metadata": {},
          "output_type": "execute_result"
        }
      ],
      "source": [
        "y_pred = final_model.predict_proba(X_train)[:, 1]\n",
        "roc_auc_score(y_train, y_pred)"
      ]
    },
    {
      "cell_type": "markdown",
      "metadata": {
        "id": "VXeArHJuNUJN"
      },
      "source": [
        "Using a grid search with 10 fold cross validation helped in finding the right hyperparamaters to boost the accuracy to 80.84%."
      ]
    },
    {
      "cell_type": "markdown",
      "metadata": {
        "id": "EGkwot3PB_u9"
      },
      "source": [
        "### Decision Trees"
      ]
    },
    {
      "cell_type": "code",
      "execution_count": null,
      "metadata": {
        "id": "ImSSYjnNB_vE"
      },
      "outputs": [],
      "source": [
        "from sklearn.tree import DecisionTreeClassifier, export_text"
      ]
    },
    {
      "cell_type": "code",
      "execution_count": null,
      "metadata": {
        "colab": {
          "base_uri": "https://localhost:8080/"
        },
        "id": "MkBgZcIXNI9w",
        "outputId": "73d6164d-6664-4f16-f43f-816483cf7d7a"
      },
      "outputs": [
        {
          "data": {
            "text/plain": [
              "DecisionTreeClassifier(ccp_alpha=0.0, class_weight=None, criterion='gini',\n",
              "                       max_depth=None, max_features=None, max_leaf_nodes=None,\n",
              "                       min_impurity_decrease=0.0, min_impurity_split=None,\n",
              "                       min_samples_leaf=1, min_samples_split=2,\n",
              "                       min_weight_fraction_leaf=0.0, presort='deprecated',\n",
              "                       random_state=11, splitter='best')"
            ]
          },
          "execution_count": 34,
          "metadata": {},
          "output_type": "execute_result"
        }
      ],
      "source": [
        "dt = DecisionTreeClassifier(random_state=11)\n",
        "dt.fit(X_train, y_train)"
      ]
    },
    {
      "cell_type": "code",
      "execution_count": null,
      "metadata": {
        "colab": {
          "base_uri": "https://localhost:8080/"
        },
        "id": "C0TGOVcANf0W",
        "outputId": "65e0c724-5a7e-4b49-ec2f-64cb2830fe7d"
      },
      "outputs": [
        {
          "data": {
            "text/plain": [
              "0.6997740056812296"
            ]
          },
          "execution_count": 35,
          "metadata": {},
          "output_type": "execute_result"
        }
      ],
      "source": [
        "y_pred = dt.predict_proba(X_val)[:, 1]\n",
        "roc_auc_score(y_val, y_pred)"
      ]
    },
    {
      "cell_type": "code",
      "execution_count": null,
      "metadata": {
        "colab": {
          "base_uri": "https://localhost:8080/"
        },
        "id": "3pxJZhrHNw_2",
        "outputId": "db483f1b-196f-4947-ecf8-b1c21b25e37e"
      },
      "outputs": [
        {
          "data": {
            "text/plain": [
              "0.9999997303756941"
            ]
          },
          "execution_count": 36,
          "metadata": {},
          "output_type": "execute_result"
        }
      ],
      "source": [
        "y_pred = dt.predict_proba(X_train)[:, 1]\n",
        "roc_auc_score(y_train, y_pred)"
      ]
    },
    {
      "cell_type": "markdown",
      "metadata": {
        "id": "3KgLzNa1NiTn"
      },
      "source": [
        "The untuned decision tree model has an accuracy of 69.97% on the validation dataset."
      ]
    },
    {
      "cell_type": "code",
      "execution_count": null,
      "metadata": {
        "id": "aNyaJxSUQZO0"
      },
      "outputs": [],
      "source": [
        "param_grid = {\n",
        "              'criterion' :['gini', 'entropy'],\n",
        "              'splitter': ['best', 'random'],\n",
        "              'max_depth' : [4, 5, 6, 7, 8, 9],\n",
        "              'min_samples_leaf': [1, 5, 10, 15, 20, 50],\n",
        "              'max_features': ['auto', 'sqrt', 'log2'],\n",
        "              'ccp_alpha': [0.1, .01, .001],\n",
        "             }"
      ]
    },
    {
      "cell_type": "code",
      "execution_count": null,
      "metadata": {
        "id": "XTRZuhywQt8X"
      },
      "outputs": [],
      "source": [
        "grid_search = GridSearchCV(DecisionTreeClassifier(random_state=11), param_grid=param_grid, verbose=True, n_jobs=-1)"
      ]
    },
    {
      "cell_type": "code",
      "execution_count": null,
      "metadata": {
        "colab": {
          "base_uri": "https://localhost:8080/"
        },
        "id": "kORHQ3R5Q3iu",
        "outputId": "363d2926-aab1-4452-caa6-c677234fb871"
      },
      "outputs": [
        {
          "name": "stdout",
          "output_type": "stream",
          "text": [
            "Fitting 5 folds for each of 1296 candidates, totalling 6480 fits\n"
          ]
        },
        {
          "name": "stderr",
          "output_type": "stream",
          "text": [
            "[Parallel(n_jobs=-1)]: Using backend LokyBackend with 2 concurrent workers.\n",
            "[Parallel(n_jobs=-1)]: Done 216 tasks      | elapsed:    4.2s\n",
            "[Parallel(n_jobs=-1)]: Done 1416 tasks      | elapsed:   28.2s\n",
            "[Parallel(n_jobs=-1)]: Done 3416 tasks      | elapsed:  1.2min\n",
            "[Parallel(n_jobs=-1)]: Done 6216 tasks      | elapsed:  2.2min\n",
            "[Parallel(n_jobs=-1)]: Done 6480 out of 6480 | elapsed:  2.4min finished\n"
          ]
        },
        {
          "data": {
            "text/plain": [
              "GridSearchCV(cv=None, error_score=nan,\n",
              "             estimator=DecisionTreeClassifier(ccp_alpha=0.0, class_weight=None,\n",
              "                                              criterion='gini', max_depth=None,\n",
              "                                              max_features=None,\n",
              "                                              max_leaf_nodes=None,\n",
              "                                              min_impurity_decrease=0.0,\n",
              "                                              min_impurity_split=None,\n",
              "                                              min_samples_leaf=1,\n",
              "                                              min_samples_split=2,\n",
              "                                              min_weight_fraction_leaf=0.0,\n",
              "                                              presort='deprecated',\n",
              "                                              random_state=11,\n",
              "                                              splitter='best'),\n",
              "             iid='deprecated', n_jobs=-1,\n",
              "             param_grid={'ccp_alpha': [0.1, 0.01, 0.001],\n",
              "                         'criterion': ['gini', 'entropy'],\n",
              "                         'max_depth': [4, 5, 6, 7, 8, 9],\n",
              "                         'max_features': ['auto', 'sqrt', 'log2'],\n",
              "                         'min_samples_leaf': [1, 5, 10, 15, 20, 50],\n",
              "                         'splitter': ['best', 'random']},\n",
              "             pre_dispatch='2*n_jobs', refit=True, return_train_score=False,\n",
              "             scoring=None, verbose=True)"
            ]
          },
          "execution_count": 41,
          "metadata": {},
          "output_type": "execute_result"
        }
      ],
      "source": [
        "grid_search.fit(X_train, y_train)"
      ]
    },
    {
      "cell_type": "code",
      "execution_count": null,
      "metadata": {
        "colab": {
          "base_uri": "https://localhost:8080/"
        },
        "id": "8jCg29qbRz9F",
        "outputId": "849e7801-f83c-4b8a-c75c-be330be2ab11"
      },
      "outputs": [
        {
          "data": {
            "text/plain": [
              "DecisionTreeClassifier(ccp_alpha=0.001, class_weight=None, criterion='entropy',\n",
              "                       max_depth=8, max_features='auto', max_leaf_nodes=None,\n",
              "                       min_impurity_decrease=0.0, min_impurity_split=None,\n",
              "                       min_samples_leaf=50, min_samples_split=2,\n",
              "                       min_weight_fraction_leaf=0.0, presort='deprecated',\n",
              "                       random_state=11, splitter='best')"
            ]
          },
          "execution_count": 42,
          "metadata": {},
          "output_type": "execute_result"
        }
      ],
      "source": [
        "final_model = grid_search.best_estimator_\n",
        "final_model"
      ]
    },
    {
      "cell_type": "code",
      "execution_count": null,
      "metadata": {
        "colab": {
          "base_uri": "https://localhost:8080/"
        },
        "id": "ancTENGaXO_s",
        "outputId": "340b8685-4662-4435-8d1c-27fac1d7b5b9"
      },
      "outputs": [
        {
          "data": {
            "text/plain": [
              "0.8190606201052075"
            ]
          },
          "execution_count": 45,
          "metadata": {},
          "output_type": "execute_result"
        }
      ],
      "source": [
        "y_pred = final_model.predict_proba(X_val)[:, 1]\n",
        "roc_auc_score(y_val, y_pred)"
      ]
    },
    {
      "cell_type": "code",
      "execution_count": null,
      "metadata": {
        "colab": {
          "base_uri": "https://localhost:8080/"
        },
        "id": "i6SomamkSFnp",
        "outputId": "4d28f7de-33a4-48ea-dda6-d7f7821c1d4d"
      },
      "outputs": [
        {
          "data": {
            "text/plain": [
              "0.8198789094883174"
            ]
          },
          "execution_count": 46,
          "metadata": {},
          "output_type": "execute_result"
        }
      ],
      "source": [
        "y_pred = final_model.predict_proba(X_train)[:, 1]\n",
        "roc_auc_score(y_train, y_pred)"
      ]
    },
    {
      "cell_type": "markdown",
      "metadata": {
        "id": "Jse4G-9wNiTo"
      },
      "source": [
        "Using a grid search with 10 fold cross validation helped in finding the right hyperparamaters to boost the accuracy to 81.90%."
      ]
    },
    {
      "cell_type": "markdown",
      "metadata": {
        "id": "L3Jrhy2XCAtu"
      },
      "source": [
        "### Random Forest"
      ]
    },
    {
      "cell_type": "code",
      "execution_count": null,
      "metadata": {
        "id": "J_9Mo0VDNHSV"
      },
      "outputs": [],
      "source": [
        "from sklearn.ensemble import RandomForestClassifier"
      ]
    },
    {
      "cell_type": "code",
      "execution_count": null,
      "metadata": {
        "colab": {
          "base_uri": "https://localhost:8080/"
        },
        "id": "R_9LbrUFCAty",
        "outputId": "f58fa36c-7345-4e30-c7b4-1e722f039325"
      },
      "outputs": [
        {
          "data": {
            "text/plain": [
              "RandomForestClassifier(bootstrap=True, ccp_alpha=0.0, class_weight=None,\n",
              "                       criterion='gini', max_depth=None, max_features='auto',\n",
              "                       max_leaf_nodes=None, max_samples=None,\n",
              "                       min_impurity_decrease=0.0, min_impurity_split=None,\n",
              "                       min_samples_leaf=1, min_samples_split=2,\n",
              "                       min_weight_fraction_leaf=0.0, n_estimators=100,\n",
              "                       n_jobs=None, oob_score=False, random_state=11, verbose=0,\n",
              "                       warm_start=False)"
            ]
          },
          "execution_count": 48,
          "metadata": {},
          "output_type": "execute_result"
        }
      ],
      "source": [
        "rf = RandomForestClassifier(random_state=11)\n",
        "rf.fit(X_train, y_train)"
      ]
    },
    {
      "cell_type": "code",
      "execution_count": null,
      "metadata": {
        "colab": {
          "base_uri": "https://localhost:8080/"
        },
        "id": "WydCZDQWl3Xv",
        "outputId": "a24bf073-857d-4768-d491-d373fb31b779"
      },
      "outputs": [
        {
          "data": {
            "text/plain": [
              "0.8694196480100009"
            ]
          },
          "execution_count": 49,
          "metadata": {},
          "output_type": "execute_result"
        }
      ],
      "source": [
        "y_pred = rf.predict_proba(X_val)[:, 1]\n",
        "roc_auc_score(y_val, y_pred)"
      ]
    },
    {
      "cell_type": "code",
      "execution_count": null,
      "metadata": {
        "colab": {
          "base_uri": "https://localhost:8080/"
        },
        "id": "2gy3PGE5mAj4",
        "outputId": "ffbd23d1-7cc7-443b-d8e0-5c1c0feb53f6"
      },
      "outputs": [
        {
          "data": {
            "text/plain": [
              "0.9999970209802301"
            ]
          },
          "execution_count": 50,
          "metadata": {},
          "output_type": "execute_result"
        }
      ],
      "source": [
        "y_pred = rf.predict_proba(X_train)[:, 1]\n",
        "roc_auc_score(y_train, y_pred)"
      ]
    },
    {
      "cell_type": "markdown",
      "metadata": {
        "id": "QnU4MdG2NzON"
      },
      "source": [
        "The untuned random forest has an accuracy of 86.94% on the validation dataset."
      ]
    },
    {
      "cell_type": "code",
      "execution_count": null,
      "metadata": {
        "id": "5P7_RkLLmXt2"
      },
      "outputs": [],
      "source": [
        "param_grid = {\n",
        "              'n_estimators' :[100, 110, 120, 130, 140, 150],\n",
        "              'max_depth' : [5, 10, 15],\n",
        "              'min_samples_leaf': [1, 3, 5, 10],\n",
        "             }"
      ]
    },
    {
      "cell_type": "code",
      "execution_count": null,
      "metadata": {
        "id": "_KFcfWLBm_bN"
      },
      "outputs": [],
      "source": [
        "grid_search = GridSearchCV(RandomForestClassifier(random_state=11), param_grid=param_grid, cv=2, verbose=True, n_jobs=-1)"
      ]
    },
    {
      "cell_type": "code",
      "execution_count": null,
      "metadata": {
        "colab": {
          "base_uri": "https://localhost:8080/"
        },
        "id": "Wsjrtxxhm_bQ",
        "outputId": "4982b29e-f1a1-4191-aac2-176de3005ba1"
      },
      "outputs": [
        {
          "name": "stdout",
          "output_type": "stream",
          "text": [
            "Fitting 2 folds for each of 72 candidates, totalling 144 fits\n"
          ]
        },
        {
          "name": "stderr",
          "output_type": "stream",
          "text": [
            "[Parallel(n_jobs=-1)]: Using backend LokyBackend with 2 concurrent workers.\n",
            "[Parallel(n_jobs=-1)]: Done  46 tasks      | elapsed:   58.5s\n",
            "[Parallel(n_jobs=-1)]: Done 144 out of 144 | elapsed:  4.7min finished\n"
          ]
        },
        {
          "data": {
            "text/plain": [
              "GridSearchCV(cv=2, error_score=nan,\n",
              "             estimator=RandomForestClassifier(bootstrap=True, ccp_alpha=0.0,\n",
              "                                              class_weight=None,\n",
              "                                              criterion='gini', max_depth=None,\n",
              "                                              max_features='auto',\n",
              "                                              max_leaf_nodes=None,\n",
              "                                              max_samples=None,\n",
              "                                              min_impurity_decrease=0.0,\n",
              "                                              min_impurity_split=None,\n",
              "                                              min_samples_leaf=1,\n",
              "                                              min_samples_split=2,\n",
              "                                              min_weight_fraction_leaf=0.0,\n",
              "                                              n_estimators=100, n_jobs=None,\n",
              "                                              oob_score=False, random_state=11,\n",
              "                                              verbose=0, warm_start=False),\n",
              "             iid='deprecated', n_jobs=-1,\n",
              "             param_grid={'max_depth': [5, 10, 15],\n",
              "                         'min_samples_leaf': [1, 3, 5, 10],\n",
              "                         'n_estimators': [100, 110, 120, 130, 140, 150]},\n",
              "             pre_dispatch='2*n_jobs', refit=True, return_train_score=False,\n",
              "             scoring=None, verbose=True)"
            ]
          },
          "execution_count": 64,
          "metadata": {},
          "output_type": "execute_result"
        }
      ],
      "source": [
        "grid_search.fit(X_train, y_train)"
      ]
    },
    {
      "cell_type": "code",
      "execution_count": null,
      "metadata": {
        "colab": {
          "base_uri": "https://localhost:8080/"
        },
        "id": "pXfArqqem_bV",
        "outputId": "4340d69e-30d2-4ffd-a0d9-bb4a17ed7384"
      },
      "outputs": [
        {
          "data": {
            "text/plain": [
              "RandomForestClassifier(bootstrap=True, ccp_alpha=0.0, class_weight=None,\n",
              "                       criterion='gini', max_depth=15, max_features='auto',\n",
              "                       max_leaf_nodes=None, max_samples=None,\n",
              "                       min_impurity_decrease=0.0, min_impurity_split=None,\n",
              "                       min_samples_leaf=5, min_samples_split=2,\n",
              "                       min_weight_fraction_leaf=0.0, n_estimators=130,\n",
              "                       n_jobs=None, oob_score=False, random_state=11, verbose=0,\n",
              "                       warm_start=False)"
            ]
          },
          "execution_count": 65,
          "metadata": {},
          "output_type": "execute_result"
        }
      ],
      "source": [
        "final_model = grid_search.best_estimator_\n",
        "final_model"
      ]
    },
    {
      "cell_type": "code",
      "execution_count": null,
      "metadata": {
        "colab": {
          "base_uri": "https://localhost:8080/"
        },
        "id": "N3jrfyiHm_bY",
        "outputId": "0a4646bc-48dc-4294-8295-d54d0dcc6785"
      },
      "outputs": [
        {
          "data": {
            "text/plain": [
              "0.8664044469620693"
            ]
          },
          "execution_count": 68,
          "metadata": {},
          "output_type": "execute_result"
        }
      ],
      "source": [
        "final_model.fit(X_train, y_train)\n",
        "y_pred = final_model.predict_proba(X_val)[:, 1]\n",
        "roc_auc_score(y_val, y_pred)"
      ]
    },
    {
      "cell_type": "code",
      "execution_count": null,
      "metadata": {
        "colab": {
          "base_uri": "https://localhost:8080/"
        },
        "id": "IJXPvEiXm_bb",
        "outputId": "d35a9fe5-edad-4d1e-c96c-89fb290932f7"
      },
      "outputs": [
        {
          "data": {
            "text/plain": [
              "0.9438656662789469"
            ]
          },
          "execution_count": 67,
          "metadata": {},
          "output_type": "execute_result"
        }
      ],
      "source": [
        "y_pred = final_model.predict_proba(X_train)[:, 1]\n",
        "roc_auc_score(y_train, y_pred)"
      ]
    },
    {
      "cell_type": "markdown",
      "metadata": {
        "id": "Iz3xABnJOEs-"
      },
      "source": [
        "Using a grid search did not boost the accuracy, this could be because the param_grid supplied to the search wasn't good enough so I'll try to find the best values for the following parameters manually: \n",
        "  \n",
        "  * n_estimators\n",
        "  * max_depth\n",
        "  * min_samples_leaf"
      ]
    },
    {
      "cell_type": "markdown",
      "metadata": {
        "id": "1Mhoo933OthV"
      },
      "source": [
        "For n_estimators, I chose [10, 130] as the initial range."
      ]
    },
    {
      "cell_type": "code",
      "execution_count": null,
      "metadata": {
        "id": "sC7v9pGWy1XO"
      },
      "outputs": [],
      "source": [
        "scores = []\n",
        "\n",
        "for n in range(10, 131, 10):\n",
        "  rf = RandomForestClassifier(n_estimators=n, random_state=11, n_jobs=-1)\n",
        "  rf.fit(X_train, y_train)\n",
        "\n",
        "  y_pred = rf.predict_proba(X_val)[:, 1]\n",
        "  score = roc_auc_score(y_val, y_pred)\n",
        "  scores.append((n, score))"
      ]
    },
    {
      "cell_type": "code",
      "execution_count": null,
      "metadata": {
        "colab": {
          "base_uri": "https://localhost:8080/",
          "height": 282
        },
        "id": "06Rm-u6BzRM-",
        "outputId": "9d35dabc-65b6-4a0d-cd97-b257701d75a5"
      },
      "outputs": [
        {
          "data": {
            "text/plain": [
              "[<matplotlib.lines.Line2D at 0x7fd0d2ae0190>]"
            ]
          },
          "execution_count": 71,
          "metadata": {},
          "output_type": "execute_result"
        },
        {
          "data": {
            "image/png": "[encoded data removed]",
            "text/plain": [
              "<Figure size 432x288 with 1 Axes>"
            ]
          },
          "metadata": {
            "needs_background": "light"
          },
          "output_type": "display_data"
        }
      ],
      "source": [
        "df_scores = pd.DataFrame(scores, columns=['n_estimators', 'auc'])\n",
        "plt.plot(df_scores.n_estimators, df_scores.auc)"
      ]
    },
    {
      "cell_type": "markdown",
      "metadata": {
        "id": "Gch0B4y0OzEh"
      },
      "source": [
        "but the accuracy kept increasing, so I increased the range to [10, 1000] to find a stagnation in accuracy value."
      ]
    },
    {
      "cell_type": "code",
      "execution_count": null,
      "metadata": {
        "id": "7FodApcfrXdc"
      },
      "outputs": [],
      "source": [
        "scores = []\n",
        "\n",
        "for n in range(10, 1001, 100):\n",
        "  rf = RandomForestClassifier(n_estimators=n, random_state=11, n_jobs=-1)\n",
        "  rf.fit(X_train, y_train)\n",
        "\n",
        "  y_pred = rf.predict_proba(X_val)[:, 1]\n",
        "  score = roc_auc_score(y_val, y_pred)\n",
        "  scores.append((n, score))"
      ]
    },
    {
      "cell_type": "code",
      "execution_count": null,
      "metadata": {
        "colab": {
          "base_uri": "https://localhost:8080/",
          "height": 282
        },
        "id": "pBl-cbYpuGPX",
        "outputId": "b7cca96d-d9be-4ddc-f715-08e05f74d828"
      },
      "outputs": [
        {
          "data": {
            "text/plain": [
              "[<matplotlib.lines.Line2D at 0x7fd0dd5e6150>]"
            ]
          },
          "execution_count": 76,
          "metadata": {},
          "output_type": "execute_result"
        },
        {
          "data": {
            "image/png": "[encoded data removed]",
            "text/plain": [
              "<Figure size 432x288 with 1 Axes>"
            ]
          },
          "metadata": {
            "needs_background": "light"
          },
          "output_type": "display_data"
        }
      ],
      "source": [
        "df_scores = pd.DataFrame(scores, columns=['n_estimators', 'auc'])\n",
        "plt.plot(df_scores.n_estimators, df_scores.auc)"
      ]
    },
    {
      "cell_type": "markdown",
      "metadata": {
        "id": "DFsdcZDhO_uK"
      },
      "source": [
        "The accuracy seems to stagnates around n=500 at about 87.2%. "
      ]
    },
    {
      "cell_type": "code",
      "execution_count": null,
      "metadata": {
        "id": "Ig_jFuMn02rs"
      },
      "outputs": [],
      "source": [
        "scores = []\n",
        "\n",
        "for d in range(1, 150, 15):\n",
        "    for n in range(10, 501, 100):\n",
        "        rf = RandomForestClassifier(n_estimators=n,\n",
        "                                    max_depth=d,\n",
        "                                    random_state=11, n_jobs=-1)\n",
        "        rf.fit(X_train, y_train)\n",
        "\n",
        "        y_pred = rf.predict_proba(X_val)[:, 1]\n",
        "        auc = roc_auc_score(y_val, y_pred)\n",
        "\n",
        "        scores.append((d, n, auc))"
      ]
    },
    {
      "cell_type": "code",
      "execution_count": null,
      "metadata": {
        "id": "-M65ayJB0_OE"
      },
      "outputs": [],
      "source": [
        "columns = ['max_depth', 'n_estimators', 'auc']\n",
        "df_scores = pd.DataFrame(scores, columns=columns)"
      ]
    },
    {
      "cell_type": "code",
      "execution_count": null,
      "metadata": {
        "colab": {
          "base_uri": "https://localhost:8080/",
          "height": 282
        },
        "id": "i0dEBnpL1DeK",
        "outputId": "98576a5b-fbef-46cf-fc3a-8a0d2e8187f2"
      },
      "outputs": [
        {
          "data": {
            "text/plain": [
              "<matplotlib.legend.Legend at 0x7fd0d4a4d590>"
            ]
          },
          "execution_count": 90,
          "metadata": {},
          "output_type": "execute_result"
        },
        {
          "data": {
            "image/png": "[encoded data removed]",
            "text/plain": [
              "<Figure size 432x288 with 1 Axes>"
            ]
          },
          "metadata": {
            "needs_background": "light"
          },
          "output_type": "display_data"
        }
      ],
      "source": [
        "for d in range(1, 150, 15):\n",
        "    df_subset = df_scores[df_scores.max_depth == d]\n",
        "    \n",
        "    plt.plot(df_subset.n_estimators, df_subset.auc,\n",
        "             label='max_depth=%d' % d)\n",
        "\n",
        "plt.legend()"
      ]
    },
    {
      "cell_type": "code",
      "execution_count": null,
      "metadata": {
        "colab": {
          "base_uri": "https://localhost:8080/"
        },
        "id": "HcttfclAMDeV",
        "outputId": "21ad7950-5cad-44ac-c9b0-0a9a9d5708bd"
      },
      "outputs": [
        {
          "name": "stdout",
          "output_type": "stream",
          "text": [
            "1 0.7959516947502194\n",
            "16 0.8678736468013044\n",
            "31 0.8693738631473586\n",
            "46 0.8698642376716783\n",
            "61 0.8699089570817966\n",
            "76 0.8699089570817966\n",
            "91 0.8699089570817966\n",
            "106 0.8699089570817966\n",
            "121 0.8699089570817966\n",
            "136 0.8699089570817966\n"
          ]
        }
      ],
      "source": [
        "for d in range(1, 150, 15):\n",
        "  print('{} {}'.format(d, df_scores[df_scores.max_depth == d].auc.max()))"
      ]
    },
    {
      "cell_type": "markdown",
      "metadata": {
        "id": "dGl9gDpUPbb9"
      },
      "source": [
        "The best value of max_depth is 61. \n",
        "\n",
        "The aim is to maximize accuracy but also minimize max_depth value since then it will consume less time and computational power."
      ]
    },
    {
      "cell_type": "code",
      "execution_count": null,
      "metadata": {
        "id": "6AL4XCfI1euk"
      },
      "outputs": [],
      "source": [
        "max_depth = 61"
      ]
    },
    {
      "cell_type": "code",
      "execution_count": null,
      "metadata": {
        "id": "-Ls3etVB1ldC"
      },
      "outputs": [],
      "source": [
        "scores = []\n",
        "\n",
        "for s in range(1, 51, 10): # [1, 3, 5, 10, 50]:\n",
        "    for n in range(10, 501, 100):\n",
        "        rf = RandomForestClassifier(n_estimators=n,\n",
        "                                    max_depth=max_depth,\n",
        "                                    min_samples_leaf=s,\n",
        "                                    random_state=11, n_jobs=-1)\n",
        "        rf.fit(X_train, y_train)\n",
        "\n",
        "        y_pred = rf.predict_proba(X_val)[:, 1]\n",
        "        auc = roc_auc_score(y_val, y_pred)\n",
        "\n",
        "        scores.append((s, n, auc))"
      ]
    },
    {
      "cell_type": "code",
      "execution_count": null,
      "metadata": {
        "id": "zeA3HbcA1wS1"
      },
      "outputs": [],
      "source": [
        "columns = ['min_samples_leaf', 'n_estimators', 'auc']\n",
        "df_scores = pd.DataFrame(scores, columns=columns)"
      ]
    },
    {
      "cell_type": "code",
      "execution_count": null,
      "metadata": {
        "colab": {
          "base_uri": "https://localhost:8080/",
          "height": 282
        },
        "id": "qZgsvwI61xNl",
        "outputId": "4aaf19fa-ee7f-41d4-e557-7a8ec708d56e"
      },
      "outputs": [
        {
          "data": {
            "text/plain": [
              "<matplotlib.legend.Legend at 0x7fd0d495e390>"
            ]
          },
          "execution_count": 96,
          "metadata": {},
          "output_type": "execute_result"
        },
        {
          "data": {
            "image/png": "[encoded data removed]",
            "text/plain": [
              "<Figure size 432x288 with 1 Axes>"
            ]
          },
          "metadata": {
            "needs_background": "light"
          },
          "output_type": "display_data"
        }
      ],
      "source": [
        "colors = ['black', 'blue', 'orange', 'red', 'grey']\n",
        "values = range(1, 51, 10) # [1, 3, 5, 10, 50]\n",
        "\n",
        "for s, col in zip(values, colors):\n",
        "    df_subset = df_scores[df_scores.min_samples_leaf == s]\n",
        "    \n",
        "    plt.plot(df_subset.n_estimators, df_subset.auc,\n",
        "             color=col,\n",
        "             label='min_samples_leaf=%d' % s)\n",
        "\n",
        "plt.legend()"
      ]
    },
    {
      "cell_type": "markdown",
      "metadata": {
        "id": "YMxIbZQaPtTk"
      },
      "source": [
        "The value of min_samples_leaf = 1 gives the best accuracy on the validation dataset.\n",
        "\n",
        "Hence, the final parameter values are:\n",
        " * n_estimators=500,\n",
        " * max_depth=61,\n",
        " * min_samples_leaf=1"
      ]
    },
    {
      "cell_type": "code",
      "execution_count": null,
      "metadata": {
        "id": "LcOhZ9VH14RV"
      },
      "outputs": [],
      "source": [
        "min_samples_leaf = 1"
      ]
    },
    {
      "cell_type": "code",
      "execution_count": null,
      "metadata": {
        "colab": {
          "base_uri": "https://localhost:8080/"
        },
        "id": "DmhBmPgv14pu",
        "outputId": "01b2c83d-dd49-4f16-f1f9-c0f37f1d9e14"
      },
      "outputs": [
        {
          "data": {
            "text/plain": [
              "RandomForestClassifier(bootstrap=True, ccp_alpha=0.0, class_weight=None,\n",
              "                       criterion='gini', max_depth=61, max_features='auto',\n",
              "                       max_leaf_nodes=None, max_samples=None,\n",
              "                       min_impurity_decrease=0.0, min_impurity_split=None,\n",
              "                       min_samples_leaf=1, min_samples_split=2,\n",
              "                       min_weight_fraction_leaf=0.0, n_estimators=500,\n",
              "                       n_jobs=-1, oob_score=False, random_state=11, verbose=0,\n",
              "                       warm_start=False)"
            ]
          },
          "execution_count": 122,
          "metadata": {},
          "output_type": "execute_result"
        }
      ],
      "source": [
        "rf = RandomForestClassifier(n_estimators=500,\n",
        "                            max_depth=61,\n",
        "                            min_samples_leaf=1,\n",
        "                            random_state=11, n_jobs=-1)\n",
        "rf.fit(X_train, y_train)"
      ]
    },
    {
      "cell_type": "code",
      "execution_count": null,
      "metadata": {
        "colab": {
          "base_uri": "https://localhost:8080/"
        },
        "id": "2-VpoFVuBA4K",
        "outputId": "8ba309d2-486e-4047-9cf9-bb48e8b7e5ed"
      },
      "outputs": [
        {
          "data": {
            "text/plain": [
              "0.8723245747216654"
            ]
          },
          "execution_count": 123,
          "metadata": {},
          "output_type": "execute_result"
        }
      ],
      "source": [
        "y_pred = rf.predict_proba(X_val)[:, 1]\n",
        "roc_auc_score(y_val, y_pred)"
      ]
    },
    {
      "cell_type": "code",
      "execution_count": null,
      "metadata": {
        "colab": {
          "base_uri": "https://localhost:8080/"
        },
        "id": "LDssJYGGW9Bl",
        "outputId": "7b1365d1-24cb-4ef6-8209-857320c1d494"
      },
      "outputs": [
        {
          "data": {
            "text/plain": [
              "0.999997527347829"
            ]
          },
          "execution_count": 107,
          "metadata": {},
          "output_type": "execute_result"
        }
      ],
      "source": [
        "y_pred = rf.predict_proba(X_train)[:, 1]\n",
        "roc_auc_score(y_train, y_pred)"
      ]
    },
    {
      "cell_type": "markdown",
      "metadata": {
        "id": "jQAL1YbKQEj4"
      },
      "source": [
        "Tuning the hyperparamaters boosted the accuracy of random forest from 86.94% to 87.23% on the validation dataset."
      ]
    },
    {
      "cell_type": "markdown",
      "metadata": {
        "id": "mgyF8ufuCBx1"
      },
      "source": [
        "### XGBoost"
      ]
    },
    {
      "cell_type": "code",
      "execution_count": null,
      "metadata": {
        "id": "_t99ZWHGCBx4"
      },
      "outputs": [],
      "source": [
        "import xgboost as xgb\n",
        "from xgboost import XGBClassifier"
      ]
    },
    {
      "cell_type": "code",
      "execution_count": null,
      "metadata": {
        "id": "Xm7tvUnzqgf_"
      },
      "outputs": [],
      "source": [
        "features = dv.get_feature_names()\n",
        "dtrain = xgb.DMatrix(X_train, label=y_train, feature_names=features)\n",
        "dval = xgb.DMatrix(X_val, label=y_val, feature_names=features)"
      ]
    },
    {
      "cell_type": "code",
      "execution_count": null,
      "metadata": {
        "id": "YOl8YDt9re14"
      },
      "outputs": [],
      "source": [
        "xgb_params = {\n",
        "    'eta': 0.3, \n",
        "    'max_depth': 60,\n",
        "    'min_child_weight': 1,\n",
        "    \n",
        "    'objective': 'binary:logistic',\n",
        "    'eval_metric': 'auc',\n",
        "    'nthread': 8,\n",
        "    \n",
        "    'seed': 1,\n",
        "    'verbosity': 1,\n",
        "}"
      ]
    },
    {
      "cell_type": "code",
      "execution_count": null,
      "metadata": {
        "id": "GWXAp60EXQ7c"
      },
      "outputs": [],
      "source": [
        "watchlist = [(dtrain, 'train'), (dval, 'val')]"
      ]
    },
    {
      "cell_type": "code",
      "execution_count": null,
      "metadata": {
        "colab": {
          "base_uri": "https://localhost:8080/"
        },
        "id": "MDmUrEMhrfkg",
        "outputId": "370c527e-ee4f-4b2e-fbb8-fc1fe4cf8cad"
      },
      "outputs": [
        {
          "name": "stdout",
          "output_type": "stream",
          "text": [
            "[0]\ttrain-auc:0.95715\tval-auc:0.812824\n",
            "[5]\ttrain-auc:0.998246\tval-auc:0.847703\n",
            "[10]\ttrain-auc:0.999844\tval-auc:0.855626\n",
            "[15]\ttrain-auc:0.999997\tval-auc:0.859398\n",
            "[20]\ttrain-auc:0.999999\tval-auc:0.861318\n",
            "[25]\ttrain-auc:1\tval-auc:0.86263\n",
            "[30]\ttrain-auc:1\tval-auc:0.863969\n",
            "[35]\ttrain-auc:1\tval-auc:0.864549\n",
            "[40]\ttrain-auc:1\tval-auc:0.865306\n",
            "[45]\ttrain-auc:1\tval-auc:0.865413\n",
            "[50]\ttrain-auc:1\tval-auc:0.865806\n",
            "[55]\ttrain-auc:1\tval-auc:0.865856\n",
            "[60]\ttrain-auc:1\tval-auc:0.86614\n",
            "[65]\ttrain-auc:1\tval-auc:0.866648\n",
            "[70]\ttrain-auc:1\tval-auc:0.866519\n",
            "[75]\ttrain-auc:1\tval-auc:0.86646\n",
            "[80]\ttrain-auc:1\tval-auc:0.866526\n",
            "[85]\ttrain-auc:1\tval-auc:0.866888\n",
            "[90]\ttrain-auc:1\tval-auc:0.866955\n",
            "[95]\ttrain-auc:1\tval-auc:0.867287\n",
            "[100]\ttrain-auc:1\tval-auc:0.867376\n",
            "[105]\ttrain-auc:1\tval-auc:0.867545\n",
            "[110]\ttrain-auc:1\tval-auc:0.867743\n",
            "[115]\ttrain-auc:1\tval-auc:0.867774\n",
            "[120]\ttrain-auc:1\tval-auc:0.867703\n",
            "[125]\ttrain-auc:1\tval-auc:0.867693\n",
            "[130]\ttrain-auc:1\tval-auc:0.867812\n",
            "[135]\ttrain-auc:1\tval-auc:0.868037\n",
            "[140]\ttrain-auc:1\tval-auc:0.867937\n",
            "[145]\ttrain-auc:1\tval-auc:0.867826\n",
            "[150]\ttrain-auc:1\tval-auc:0.867818\n",
            "[155]\ttrain-auc:1\tval-auc:0.867765\n",
            "[160]\ttrain-auc:1\tval-auc:0.867713\n",
            "[165]\ttrain-auc:1\tval-auc:0.867769\n",
            "[170]\ttrain-auc:1\tval-auc:0.867728\n",
            "[175]\ttrain-auc:1\tval-auc:0.86774\n",
            "[180]\ttrain-auc:1\tval-auc:0.867689\n",
            "[185]\ttrain-auc:1\tval-auc:0.867717\n",
            "[190]\ttrain-auc:1\tval-auc:0.867741\n",
            "[195]\ttrain-auc:1\tval-auc:0.867878\n",
            "[199]\ttrain-auc:1\tval-auc:0.867841\n"
          ]
        }
      ],
      "source": [
        "model = xgb.train(xgb_params, dtrain, num_boost_round=200,\n",
        "                  verbose_eval=5,\n",
        "                  evals=watchlist)"
      ]
    },
    {
      "cell_type": "code",
      "execution_count": null,
      "metadata": {
        "colab": {
          "base_uri": "https://localhost:8080/"
        },
        "id": "Q4C-xO9yrnBa",
        "outputId": "34bb9016-0024-4a8c-e2be-e6a79b377ba7"
      },
      "outputs": [
        {
          "data": {
            "text/plain": [
              "0.8678414168624435"
            ]
          },
          "execution_count": 149,
          "metadata": {},
          "output_type": "execute_result"
        }
      ],
      "source": [
        "y_pred = model.predict(dval)\n",
        "roc_auc_score(y_val, y_pred)"
      ]
    },
    {
      "cell_type": "code",
      "execution_count": null,
      "metadata": {
        "colab": {
          "base_uri": "https://localhost:8080/"
        },
        "id": "0X10qKKXrzKB",
        "outputId": "e93c9b6b-12be-496d-f298-9a12db1225c9"
      },
      "outputs": [
        {
          "data": {
            "text/plain": [
              "0.9999997303756941"
            ]
          },
          "execution_count": 150,
          "metadata": {},
          "output_type": "execute_result"
        }
      ],
      "source": [
        "y_pred = model.predict(dtrain)\n",
        "roc_auc_score(y_train, y_pred)"
      ]
    },
    {
      "cell_type": "markdown",
      "metadata": {
        "id": "9HCq7P8hQbNC"
      },
      "source": [
        "The untuned XG Boost model has an accuracy of 86.78% on the validation dataset. \n",
        "\n",
        "Using grid search on XG Boost was very time-consuming so I am going to manually tune the following hyperparameters by plotting them and picking the best:\n",
        "\n",
        "* eta\n",
        "* max_depth\n",
        "* min_child_weight"
      ]
    },
    {
      "cell_type": "code",
      "execution_count": null,
      "metadata": {
        "id": "A-qc2b-haMtA"
      },
      "outputs": [],
      "source": [
        "def parse_xgb_output(output):\n",
        "    results = []\n",
        "\n",
        "    for line in output.stdout.strip().split('\\n'):\n",
        "        it_line, train_line, val_line = line.split('\\t')\n",
        "\n",
        "        it = int(it_line.strip('[]'))\n",
        "        train = float(train_line.split(':')[1])\n",
        "        val = float(val_line.split(':')[1])\n",
        "\n",
        "        results.append((it, train, val))\n",
        "    \n",
        "    columns = ['num_iter', 'train_auc', 'val_auc']\n",
        "    df_results = pd.DataFrame(results, columns=columns)\n",
        "    return df_results"
      ]
    },
    {
      "cell_type": "code",
      "execution_count": null,
      "metadata": {
        "id": "KvzxwhY2AxKe"
      },
      "outputs": [],
      "source": [
        "etas = {}"
      ]
    },
    {
      "cell_type": "code",
      "execution_count": null,
      "metadata": {
        "id": "CwtYRWLXAmDW"
      },
      "outputs": [],
      "source": [
        "%%capture output\n",
        "\n",
        "xgb_params = {\n",
        "    'eta': 0.08, \n",
        "    'max_depth': 100,\n",
        "    'min_child_weight': 1,\n",
        "    \n",
        "    'objective': 'binary:logistic',\n",
        "    'eval_metric': 'auc',\n",
        "\n",
        "    'nthread': 8,\n",
        "    'seed': 1,\n",
        "    'verbosity': 1,\n",
        "}\n",
        "\n",
        "model = xgb.train(xgb_params, dtrain, num_boost_round=200,\n",
        "                  verbose_eval=5,\n",
        "                  evals=watchlist)"
      ]
    },
    {
      "cell_type": "code",
      "execution_count": null,
      "metadata": {
        "colab": {
          "base_uri": "https://localhost:8080/",
          "height": 35
        },
        "id": "euhC2wJMAmDX",
        "outputId": "939214a3-f2ec-4d19-ae19-7626ac115d06"
      },
      "outputs": [
        {
          "data": {
            "application/vnd.google.colaboratory.intrinsic+json": {
              "type": "string"
            },
            "text/plain": [
              "'eta=0.08'"
            ]
          },
          "execution_count": 73,
          "metadata": {},
          "output_type": "execute_result"
        }
      ],
      "source": [
        "key = 'eta=%s' % (xgb_params['eta'])\n",
        "etas[key] = parse_xgb_output(output)\n",
        "key"
      ]
    },
    {
      "cell_type": "code",
      "execution_count": null,
      "metadata": {
        "colab": {
          "base_uri": "https://localhost:8080/",
          "height": 286
        },
        "id": "WsOCfGyJAmDY",
        "outputId": "2844a2a0-83c0-488d-94e5-ab3084cda48d"
      },
      "outputs": [
        {
          "data": {
            "text/plain": [
              "<matplotlib.legend.Legend at 0x7fbfcff6b4d0>"
            ]
          },
          "execution_count": 76,
          "metadata": {},
          "output_type": "execute_result"
        },
        {
          "data": {
            "image/png": "[encoded data removed]",
            "text/plain": [
              "<Figure size 432x288 with 1 Axes>"
            ]
          },
          "metadata": {
            "needs_background": "light"
          },
          "output_type": "display_data"
        }
      ],
      "source": [
        "for eta, df_score in etas.items():\n",
        "    plt.plot(df_score.num_iter, df_score.val_auc, label=eta)\n",
        "\n",
        "plt.ylim(0.8, 0.9)\n",
        "plt.legend()"
      ]
    },
    {
      "cell_type": "markdown",
      "metadata": {
        "id": "RGFRQj4dQywD"
      },
      "source": [
        "From the plot, it is clear that eta=0.08 gives the best accuracy. "
      ]
    },
    {
      "cell_type": "code",
      "execution_count": null,
      "metadata": {
        "id": "8MeVZX-4Zwr7"
      },
      "outputs": [],
      "source": [
        "scores = {}"
      ]
    },
    {
      "cell_type": "code",
      "execution_count": null,
      "metadata": {
        "id": "eSOu3umsZyCr"
      },
      "outputs": [],
      "source": [
        "%%capture output\n",
        "\n",
        "xgb_params = {\n",
        "    'eta': 0.08, \n",
        "    'max_depth': 200,\n",
        "    'min_child_weight': 1,\n",
        "    \n",
        "    'objective': 'binary:logistic',\n",
        "    'eval_metric': 'auc',\n",
        "\n",
        "    'nthread': 8,\n",
        "    'seed': 1,\n",
        "    'verbosity': 1,\n",
        "}\n",
        "\n",
        "model = xgb.train(xgb_params, dtrain, num_boost_round=200,\n",
        "                  verbose_eval=5,\n",
        "                  evals=watchlist)"
      ]
    },
    {
      "cell_type": "code",
      "execution_count": null,
      "metadata": {
        "colab": {
          "base_uri": "https://localhost:8080/",
          "height": 35
        },
        "id": "FOT75FuvaKMs",
        "outputId": "ac7cbba4-6128-495a-85fd-fdd4fc55bb12"
      },
      "outputs": [
        {
          "data": {
            "application/vnd.google.colaboratory.intrinsic+json": {
              "type": "string"
            },
            "text/plain": [
              "'max_depth=200'"
            ]
          },
          "execution_count": 45,
          "metadata": {},
          "output_type": "execute_result"
        }
      ],
      "source": [
        "key = 'max_depth=%s' % (xgb_params['max_depth'])\n",
        "scores[key] = parse_xgb_output(output)\n",
        "key"
      ]
    },
    {
      "cell_type": "code",
      "execution_count": null,
      "metadata": {
        "colab": {
          "base_uri": "https://localhost:8080/",
          "height": 286
        },
        "id": "rytHglMXaV6k",
        "outputId": "382ed520-5382-4853-c58d-f1d1381a344a"
      },
      "outputs": [
        {
          "data": {
            "text/plain": [
              "<matplotlib.legend.Legend at 0x7fbfd49d7790>"
            ]
          },
          "execution_count": 46,
          "metadata": {},
          "output_type": "execute_result"
        },
        {
          "data": {
            "image/png": "[encoded data removed]",
            "text/plain": [
              "<Figure size 432x288 with 1 Axes>"
            ]
          },
          "metadata": {
            "needs_background": "light"
          },
          "output_type": "display_data"
        }
      ],
      "source": [
        "for max_depth, df_score in scores.items():\n",
        "    plt.plot(df_score.num_iter, df_score.val_auc, label=max_depth)\n",
        "\n",
        "plt.ylim(0.85, 0.9)\n",
        "plt.legend()"
      ]
    },
    {
      "cell_type": "markdown",
      "metadata": {
        "id": "Kr9PxTSKQ8hb"
      },
      "source": [
        "max_depth=100 and max_depth=200 have overlapping plots, since lower value of max_depth saves time and computational power, max_depth=100 is selected."
      ]
    },
    {
      "cell_type": "code",
      "execution_count": null,
      "metadata": {
        "id": "dSHh4BaCdXgc"
      },
      "outputs": [],
      "source": [
        "weights = {}"
      ]
    },
    {
      "cell_type": "code",
      "execution_count": null,
      "metadata": {
        "id": "rM2MLw_mdc8w"
      },
      "outputs": [],
      "source": [
        "%%capture output\n",
        "\n",
        "xgb_params = {\n",
        "    'eta': 0.08, \n",
        "    'max_depth': 100,\n",
        "    'min_child_weight': 4,\n",
        "    \n",
        "    'objective': 'binary:logistic',\n",
        "    'eval_metric': 'auc',\n",
        "\n",
        "    'nthread': 8,\n",
        "    'seed': 1,\n",
        "    'verbosity': 1,\n",
        "}\n",
        "\n",
        "model = xgb.train(xgb_params, dtrain, num_boost_round=200,\n",
        "                  verbose_eval=5,\n",
        "                  evals=watchlist)"
      ]
    },
    {
      "cell_type": "code",
      "execution_count": null,
      "metadata": {
        "colab": {
          "base_uri": "https://localhost:8080/",
          "height": 35
        },
        "id": "KE1fn5YLde32",
        "outputId": "5c4174f3-39fc-40f4-8abb-222929fcd6bc"
      },
      "outputs": [
        {
          "data": {
            "application/vnd.google.colaboratory.intrinsic+json": {
              "type": "string"
            },
            "text/plain": [
              "'min_child_weight=4'"
            ]
          },
          "execution_count": 97,
          "metadata": {},
          "output_type": "execute_result"
        }
      ],
      "source": [
        "key = 'min_child_weight=%s' % (xgb_params['min_child_weight'])\n",
        "weights[key] = parse_xgb_output(output)\n",
        "key"
      ]
    },
    {
      "cell_type": "code",
      "execution_count": null,
      "metadata": {
        "colab": {
          "base_uri": "https://localhost:8080/",
          "height": 286
        },
        "id": "7BZg3gUNdhmG",
        "outputId": "9cb8cb25-6812-4e13-fa0c-90e641c1df6c"
      },
      "outputs": [
        {
          "data": {
            "text/plain": [
              "<matplotlib.legend.Legend at 0x7fbfcf52ae10>"
            ]
          },
          "execution_count": 99,
          "metadata": {},
          "output_type": "execute_result"
        },
        {
          "data": {
            "image/png": "[encoded data removed]",
            "text/plain": [
              "<Figure size 432x288 with 1 Axes>"
            ]
          },
          "metadata": {
            "needs_background": "light"
          },
          "output_type": "display_data"
        }
      ],
      "source": [
        "for min_child_weight, df_score in weights.items():\n",
        "    plt.plot(df_score.num_iter, df_score.val_auc, label=min_child_weight)\n",
        "\n",
        "plt.ylim(0.86, 0.88)\n",
        "plt.legend()"
      ]
    },
    {
      "cell_type": "markdown",
      "metadata": {
        "id": "GrJ3h7fDRN8D"
      },
      "source": [
        "From the plot, it is clear the min_child_weight=2 gives the best accuracy on validation dataset."
      ]
    },
    {
      "cell_type": "code",
      "execution_count": null,
      "metadata": {
        "colab": {
          "base_uri": "https://localhost:8080/"
        },
        "id": "uxADmR2cR04v",
        "outputId": "77dcc841-f168-4c92-a5f0-ed572d53f07d"
      },
      "outputs": [
        {
          "name": "stdout",
          "output_type": "stream",
          "text": [
            "[0]\ttrain-auc:0.935605\tval-auc:0.814424\n",
            "[20]\ttrain-auc:0.995004\tval-auc:0.859923\n",
            "[40]\ttrain-auc:0.999436\tval-auc:0.866614\n",
            "[60]\ttrain-auc:0.999971\tval-auc:0.869505\n",
            "[80]\ttrain-auc:0.999998\tval-auc:0.870606\n",
            "[100]\ttrain-auc:0.999999\tval-auc:0.871581\n",
            "[120]\ttrain-auc:1\tval-auc:0.872051\n",
            "[140]\ttrain-auc:1\tval-auc:0.872413\n",
            "[160]\ttrain-auc:1\tval-auc:0.87288\n",
            "[180]\ttrain-auc:1\tval-auc:0.873194\n",
            "[199]\ttrain-auc:1\tval-auc:0.873063\n"
          ]
        }
      ],
      "source": [
        "xgb_params = {\n",
        "    'eta': 0.08, \n",
        "    'max_depth': 100,\n",
        "    'min_child_weight': 2,\n",
        "    \n",
        "    'objective': 'binary:logistic',\n",
        "    'eval_metric': 'auc',\n",
        "\n",
        "    'nthread': 8,\n",
        "    'seed': 1,\n",
        "    'verbosity': 1,\n",
        "}\n",
        "\n",
        "model = xgb.train(xgb_params, dtrain, num_boost_round=200,\n",
        "                  verbose_eval=20,\n",
        "                  evals=watchlist)"
      ]
    },
    {
      "cell_type": "code",
      "execution_count": null,
      "metadata": {
        "colab": {
          "base_uri": "https://localhost:8080/"
        },
        "id": "l1BY9UmFR3pd",
        "outputId": "6d563399-3da8-4b28-c5b2-6bbe5d15e07f"
      },
      "outputs": [
        {
          "data": {
            "text/plain": [
              "0.8730628149374076"
            ]
          },
          "execution_count": 102,
          "metadata": {},
          "output_type": "execute_result"
        }
      ],
      "source": [
        "y_pred = model.predict(dval)\n",
        "roc_auc_score(y_val, y_pred)"
      ]
    },
    {
      "cell_type": "markdown",
      "metadata": {
        "id": "m6HzM5wIRUWa"
      },
      "source": [
        "Tuning the hyperparameters manually boosted the accuracy from 86.78% to 87.30% on the validation dataset."
      ]
    },
    {
      "cell_type": "markdown",
      "metadata": {
        "id": "lMGujZjJGzV6"
      },
      "source": [
        "## Selecting the best model"
      ]
    },
    {
      "cell_type": "markdown",
      "metadata": {
        "id": "5iZKEHt0G2zM"
      },
      "source": [
        "### Logistic Regression"
      ]
    },
    {
      "cell_type": "code",
      "execution_count": null,
      "metadata": {
        "colab": {
          "base_uri": "https://localhost:8080/"
        },
        "id": "OR_0H8r0G13b",
        "outputId": "ef553c34-1332-4861-8337-ba976d3bc2f7"
      },
      "outputs": [
        {
          "data": {
            "text/plain": [
              "LogisticRegression(C=3.5938136638046276, class_weight=None, dual=False,\n",
              "                   fit_intercept=True, intercept_scaling=1, l1_ratio=None,\n",
              "                   max_iter=100, multi_class='auto', n_jobs=None, penalty='l1',\n",
              "                   random_state=11, solver='liblinear', tol=0.0001, verbose=0,\n",
              "                   warm_start=False)"
            ]
          },
          "execution_count": 118,
          "metadata": {},
          "output_type": "execute_result"
        }
      ],
      "source": [
        "lr = LogisticRegression(C=3.5938136638046276, class_weight=None, dual=False,\n",
        "                   fit_intercept=True, intercept_scaling=1, l1_ratio=None,\n",
        "                   max_iter=100, multi_class='auto', n_jobs=None, penalty='l1',\n",
        "                   random_state=11, solver='liblinear', tol=0.0001, verbose=0,\n",
        "                   warm_start=False)\n",
        "lr.fit(X_train, y_train)"
      ]
    },
    {
      "cell_type": "code",
      "execution_count": null,
      "metadata": {
        "colab": {
          "base_uri": "https://localhost:8080/"
        },
        "id": "lxvW3CwBIWNo",
        "outputId": "fe03a365-4ca4-4b9f-c8fc-bda4d8f4df8c"
      },
      "outputs": [
        {
          "data": {
            "text/plain": [
              "0.8084125763648298"
            ]
          },
          "execution_count": 120,
          "metadata": {},
          "output_type": "execute_result"
        }
      ],
      "source": [
        "y_pred = lr.predict_proba(X_val)[:, 1]\n",
        "roc_auc_score(y_val, y_pred)"
      ]
    },
    {
      "cell_type": "markdown",
      "metadata": {
        "id": "RDJCPSGiG8Ub"
      },
      "source": [
        "### Decision Tree"
      ]
    },
    {
      "cell_type": "code",
      "execution_count": null,
      "metadata": {
        "colab": {
          "base_uri": "https://localhost:8080/"
        },
        "id": "hv0-snZzG8Uc",
        "outputId": "fae19d9c-ec3f-4756-d03c-cb67c6348ec5"
      },
      "outputs": [
        {
          "data": {
            "text/plain": [
              "DecisionTreeClassifier(ccp_alpha=0.001, class_weight=None, criterion='entropy',\n",
              "                       max_depth=8, max_features='auto', max_leaf_nodes=None,\n",
              "                       min_impurity_decrease=0.0, min_impurity_split=None,\n",
              "                       min_samples_leaf=50, min_samples_split=2,\n",
              "                       min_weight_fraction_leaf=0.0, presort='deprecated',\n",
              "                       random_state=11, splitter='best')"
            ]
          },
          "execution_count": 115,
          "metadata": {},
          "output_type": "execute_result"
        }
      ],
      "source": [
        "dt = DecisionTreeClassifier(ccp_alpha=0.001, class_weight=None, criterion='entropy',\n",
        "                       max_depth=8, max_features='auto', max_leaf_nodes=None,\n",
        "                       min_impurity_decrease=0.0, min_impurity_split=None,\n",
        "                       min_samples_leaf=50, min_samples_split=2,\n",
        "                       min_weight_fraction_leaf=0.0, presort='deprecated',\n",
        "                       random_state=11, splitter='best')\n",
        "dt.fit(X_train, y_train)"
      ]
    },
    {
      "cell_type": "code",
      "execution_count": null,
      "metadata": {
        "colab": {
          "base_uri": "https://localhost:8080/"
        },
        "id": "uVxt75aUIGTM",
        "outputId": "6623b67c-d55b-4b8b-a601-8bdd8f377cd4"
      },
      "outputs": [
        {
          "data": {
            "text/plain": [
              "0.8190606201052075"
            ]
          },
          "execution_count": 116,
          "metadata": {},
          "output_type": "execute_result"
        }
      ],
      "source": [
        "y_pred = dt.predict_proba(X_val)[:, 1]\n",
        "roc_auc_score(y_val, y_pred)"
      ]
    },
    {
      "cell_type": "markdown",
      "metadata": {
        "id": "hM8_gdtqG8hR"
      },
      "source": [
        "### Random Forest"
      ]
    },
    {
      "cell_type": "code",
      "execution_count": null,
      "metadata": {
        "colab": {
          "base_uri": "https://localhost:8080/"
        },
        "id": "qyPWMdZ9Hd8h",
        "outputId": "db2ea7e8-ce30-49ca-eb8f-1a51d76c948c"
      },
      "outputs": [
        {
          "data": {
            "text/plain": [
              "RandomForestClassifier(bootstrap=True, ccp_alpha=0.0, class_weight=None,\n",
              "                       criterion='gini', max_depth=61, max_features='auto',\n",
              "                       max_leaf_nodes=None, max_samples=None,\n",
              "                       min_impurity_decrease=0.0, min_impurity_split=None,\n",
              "                       min_samples_leaf=1, min_samples_split=2,\n",
              "                       min_weight_fraction_leaf=0.0, n_estimators=500,\n",
              "                       n_jobs=-1, oob_score=False, random_state=11, verbose=0,\n",
              "                       warm_start=False)"
            ]
          },
          "execution_count": 108,
          "metadata": {},
          "output_type": "execute_result"
        }
      ],
      "source": [
        "rf = RandomForestClassifier(n_estimators=500,\n",
        "                            max_depth=61,\n",
        "                            min_samples_leaf=1,\n",
        "                            random_state=11, n_jobs=-1)\n",
        "rf.fit(X_train, y_train)"
      ]
    },
    {
      "cell_type": "code",
      "execution_count": null,
      "metadata": {
        "colab": {
          "base_uri": "https://localhost:8080/"
        },
        "id": "kScyFbHRHd8j",
        "outputId": "03a0cde8-c5a2-471f-f462-279d9467c0b9"
      },
      "outputs": [
        {
          "data": {
            "text/plain": [
              "0.8723245747216654"
            ]
          },
          "execution_count": 109,
          "metadata": {},
          "output_type": "execute_result"
        }
      ],
      "source": [
        "y_pred = rf.predict_proba(X_val)[:, 1]\n",
        "roc_auc_score(y_val, y_pred)"
      ]
    },
    {
      "cell_type": "markdown",
      "metadata": {
        "id": "iqxUGCLWG8p0"
      },
      "source": [
        "### XG Boost\n"
      ]
    },
    {
      "cell_type": "code",
      "execution_count": null,
      "metadata": {
        "id": "o9qEComHG8p1"
      },
      "outputs": [],
      "source": [
        "xgb_params = {\n",
        "    'eta': 0.08, \n",
        "    'max_depth': 100,\n",
        "    'min_child_weight': 2,\n",
        "    \n",
        "    'objective': 'binary:logistic',\n",
        "    'eval_metric': 'auc',\n",
        "\n",
        "    'nthread': 8,\n",
        "    'seed': 1,\n",
        "    'verbosity': 1,\n",
        "}\n",
        "\n",
        "model = xgb.train(xgb_params, dtrain, num_boost_round=200) # ,evals=watchlist)"
      ]
    },
    {
      "cell_type": "code",
      "execution_count": null,
      "metadata": {
        "colab": {
          "base_uri": "https://localhost:8080/"
        },
        "id": "3LUaebKcHKVj",
        "outputId": "5b9ad57a-8dea-4336-e04e-8c4ff07b0c24"
      },
      "outputs": [
        {
          "data": {
            "text/plain": [
              "0.8730628149374076"
            ]
          },
          "execution_count": 104,
          "metadata": {},
          "output_type": "execute_result"
        }
      ],
      "source": [
        "y_pred = model.predict(dval)\n",
        "roc_auc_score(y_val, y_pred)"
      ]
    },
    {
      "cell_type": "markdown",
      "metadata": {
        "id": "Os_PaYdTRjda"
      },
      "source": [
        "The best performing model is XG Boost with an accuracy of 87.30% on the validation dataset, it will be exported to a Pickle file to be used with the Flask application. "
      ]
    },
    {
      "cell_type": "markdown",
      "metadata": {
        "id": "6jBqJpD3CLhG"
      },
      "source": [
        "## Store best model as Pickle file"
      ]
    },
    {
      "cell_type": "code",
      "execution_count": null,
      "metadata": {
        "id": "K9Vgbv5eCO0y"
      },
      "outputs": [],
      "source": [
        "df_full_train = df_full_train.reset_index(drop=True)\n",
        "y_full_train = df_full_train.target.values\n",
        "del df_full_train['target']"
      ]
    },
    {
      "cell_type": "code",
      "execution_count": null,
      "metadata": {
        "id": "bGEyKlPl43D2"
      },
      "outputs": [],
      "source": [
        "dv = DictVectorizer(sparse=False)\n",
        "\n",
        "dicts_full_train = df_full_train.to_dict(orient='records')\n",
        "X_full_train = dv.fit_transform(dicts_full_train)\n",
        "\n",
        "dicts_test = df_test.to_dict(orient='records')\n",
        "X_test = dv.transform(dicts_test)"
      ]
    },
    {
      "cell_type": "code",
      "execution_count": null,
      "metadata": {
        "id": "gXRkPsBy47gP"
      },
      "outputs": [],
      "source": [
        "dfulltrain = xgb.DMatrix(X_full_train, label=y_full_train,\n",
        "                    feature_names=dv.get_feature_names())\n",
        "\n",
        "dtest = xgb.DMatrix(X_test, feature_names=dv.get_feature_names())"
      ]
    },
    {
      "cell_type": "code",
      "execution_count": null,
      "metadata": {
        "id": "g473S3Eb4-vm"
      },
      "outputs": [],
      "source": [
        "xgb_params = {\n",
        "    'eta': 0.08, \n",
        "    'max_depth': 100,\n",
        "    'min_child_weight': 2,\n",
        "    \n",
        "    'objective': 'binary:logistic',\n",
        "    'eval_metric': 'auc',\n",
        "\n",
        "    'nthread': 8,\n",
        "    'seed': 1,\n",
        "    'verbosity': 1,\n",
        "}\n",
        "\n",
        "model = xgb.train(xgb_params, dfulltrain, num_boost_round=200)"
      ]
    },
    {
      "cell_type": "code",
      "execution_count": null,
      "metadata": {
        "colab": {
          "base_uri": "https://localhost:8080/"
        },
        "id": "otNFM1_X5CeO",
        "outputId": "f2472525-3ecf-407a-8b85-e3522967dc57"
      },
      "outputs": [
        {
          "data": {
            "text/plain": [
              "0.8644872551344663"
            ]
          },
          "execution_count": 18,
          "metadata": {},
          "output_type": "execute_result"
        }
      ],
      "source": [
        "y_pred = model.predict(dtest)\n",
        "roc_auc_score(y_test, y_pred)"
      ]
    },
    {
      "cell_type": "markdown",
      "metadata": {
        "id": "vsT_eTVkRwRL"
      },
      "source": [
        "The accuracy of the full_train dataset is 86.44% which is close to the validation dataset accuracy. "
      ]
    },
    {
      "cell_type": "code",
      "execution_count": null,
      "metadata": {
        "id": "ZG5otXeT66zp"
      },
      "outputs": [],
      "source": [
        "import pickle"
      ]
    },
    {
      "cell_type": "code",
      "execution_count": null,
      "metadata": {
        "id": "4u1GSllx67YR"
      },
      "outputs": [],
      "source": [
        "output_file = 'final_model_xgb.bin'\n",
        "\n",
        "f_out = open(output_file, 'wb') \n",
        "pickle.dump((dv, model), f_out)\n",
        "f_out.close()"
      ]
    },
    {
      "cell_type": "code",
      "execution_count": null,
      "metadata": {
        "colab": {
          "base_uri": "https://localhost:8080/"
        },
        "id": "QASsjw0R6_kc",
        "outputId": "5b2df55f-e857-45bd-c2ff-12e87bd95382"
      },
      "outputs": [
        {
          "name": "stdout",
          "output_type": "stream",
          "text": [
            "-rw-r--r-- 1 root root 11M Oct 30 12:20 final_model_xgb.bin\n"
          ]
        }
      ],
      "source": [
        "!ls -lh *.bin"
      ]
    },
    {
      "cell_type": "code",
      "execution_count": null,
      "metadata": {
        "id": "e1i8J_JO7FJJ"
      },
      "outputs": [],
      "source": [
        "with open(output_file, 'wb') as f_out: \n",
        "    pickle.dump((dv, model), f_out)"
      ]
    },
    {
      "cell_type": "markdown",
      "metadata": {
        "id": "l2LFy8Py7MeC"
      },
      "source": [
        "## Load best model using"
      ]
    },
    {
      "cell_type": "code",
      "execution_count": null,
      "metadata": {
        "id": "I4bkDR8U7LfA"
      },
      "outputs": [],
      "source": [
        "input_file = 'final_model_xgb.bin'"
      ]
    },
    {
      "cell_type": "code",
      "execution_count": null,
      "metadata": {
        "id": "p6wma5I_7H4a"
      },
      "outputs": [],
      "source": [
        "with open(input_file, 'rb') as f_in: \n",
        "    dv, model = pickle.load(f_in)"
      ]
    },
    {
      "cell_type": "code",
      "execution_count": null,
      "metadata": {
        "id": "6_Mjh_O07KeY"
      },
      "outputs": [],
      "source": [
        "song = df_full_train.to_dict(orient='records')[0]"
      ]
    },
    {
      "cell_type": "code",
      "execution_count": null,
      "metadata": {
        "id": "Q01u3uHb7bIN"
      },
      "outputs": [],
      "source": [
        "X = dv.transform([song])\n",
        "dX = xgb.DMatrix(X, feature_names=dv.get_feature_names())"
      ]
    },
    {
      "cell_type": "code",
      "execution_count": null,
      "metadata": {
        "id": "Jtkg_9fh7eeU"
      },
      "outputs": [],
      "source": [
        "y_pred = model.predict(dX)"
      ]
    },
    {
      "cell_type": "code",
      "execution_count": null,
      "metadata": {
        "colab": {
          "base_uri": "https://localhost:8080/"
        },
        "id": "sm832Q6y7e_b",
        "outputId": "e0d0a3cc-5ed2-4b4d-f52c-a1e88a8112a5"
      },
      "outputs": [
        {
          "name": "stdout",
          "output_type": "stream",
          "text": [
            "input: {'danceability': 0.369, 'energy': 0.94, 'key': 9, 'loudness': -3.6719999999999997, 'mode': 1, 'speechiness': 0.086, 'acousticness': 0.00048499999999999997, 'instrumentalness': 0.0006389999999999999, 'liveness': 0.14, 'valence': 0.517, 'tempo': 110.021, 'duration_ms': 148867, 'time_signature': 4, 'chorus_hit': 31.05358, 'sections': 7}\n",
            "output: [0.00519087]\n"
          ]
        }
      ],
      "source": [
        "print('input:', song)\n",
        "print('output:', y_pred)"
      ]
    }
  ],
  "metadata": {
    "colab": {
      "authorship_tag": "ABX9TyNZGC5jexpYO2p5GCHqeY1B",
      "collapsed_sections": [
        "9NOChJP23ax9",
        "1VdklIF53k2M",
        "l2LFy8Py7MeC"
      ],
      "include_colab_link": true,
      "name": "zoomcamp_midterm_spotify.ipynb",
      "provenance": []
    },
    "kernelspec": {
      "display_name": "Python 3",
      "name": "python3"
    },
    "language_info": {
      "name": "python"
    }
  },
  "nbformat": 4,
  "nbformat_minor": 0
}
